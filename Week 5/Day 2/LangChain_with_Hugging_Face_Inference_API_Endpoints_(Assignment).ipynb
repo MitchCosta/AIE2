{
  "cells": [
    {
      "cell_type": "markdown",
      "metadata": {
        "id": "ctrwj6Cj24Zp"
      },
      "source": [
        "# LangChain with Open Source LLM and Open Source Embeddings & LangSmith\n",
        "\n",
        "In the following notebook we will dive into the world of Open Source models hosted on Hugging Face's [inference endpoints](https://ui.endpoints.huggingface.co/).\n",
        "\n",
        "The notebook will be broken into the following parts:\n",
        "\n",
        "- 🤝 Breakout Room #1:\n",
        "  1. Set-up Hugging Face Infrence Endpoints\n",
        "  2. Install required libraries\n",
        "  3. Set Environment Variables\n",
        "  4. Testing our Hugging Face Inference Endpoint\n",
        "  5. Creating LangChain components powered by the endpoints\n",
        "  6. Retrieving data from Arxiv\n",
        "  7. Creating a simple RAG pipeline with [LangChain v0.1.0](https://blog.langchain.dev/langchain-v0-1-0/)\n",
        "  \n",
        "\n",
        "- 🤝 Breakout Room #2:\n",
        "  1. Set-up LangSmith\n",
        "  2. Creating a LangSmith dataset\n",
        "  3. Creating a custom evaluator\n",
        "  4. Initializing our evaluator config\n",
        "  5. Evaluating our RAG pipeline"
      ]
    },
    {
      "cell_type": "markdown",
      "metadata": {
        "id": "AduTna3oCbP4"
      },
      "source": [
        "# 🤝 Breakout Room #1"
      ]
    },
    {
      "cell_type": "markdown",
      "metadata": {
        "id": "ENUY6OSnDy7A"
      },
      "source": [
        "## Task 1: Set-up Hugging Face Infrence Endpoints\n",
        "\n",
        "Please follow the instructions provided [here](https://github.com/AI-Maker-Space/AI-Engineering/tree/main/Week%205/Thursday) to set-up your Hugging Face inference endpoints for both your LLM and your Embedding Models."
      ]
    },
    {
      "cell_type": "markdown",
      "metadata": {
        "id": "-spIWt2J3Quk"
      },
      "source": [
        "## Task 2: Install required libraries\n",
        "\n",
        "Now we've got to get our required libraries!\n",
        "\n",
        "We'll start with our `langchain` and `huggingface` dependencies.\n",
        "\n"
      ]
    },
    {
      "cell_type": "code",
      "execution_count": 1,
      "metadata": {
        "colab": {
          "base_uri": "https://localhost:8080/"
        },
        "id": "EwGLnp31jXJj",
        "outputId": "894efab9-f2d7-4f2b-fe9a-b9d57152eace"
      },
      "outputs": [],
      "source": [
        "!pip install langchain langchain-core langchain-community langchain_openai huggingface-hub requests -q -U"
      ]
    },
    {
      "cell_type": "markdown",
      "metadata": {
        "id": "yPXElql-EE9Q"
      },
      "source": [
        "Now we can grab some miscellaneous dependencies that will help us power our RAG pipeline!"
      ]
    },
    {
      "cell_type": "code",
      "execution_count": 2,
      "metadata": {
        "id": "FMJqq8SYt34V"
      },
      "outputs": [],
      "source": [
        "!pip install arxiv pymupdf faiss-cpu -q -U"
      ]
    },
    {
      "cell_type": "markdown",
      "metadata": {
        "id": "SpZTBLwK3TIz"
      },
      "source": [
        "## Task 3: Set Environment Variables\n",
        "\n",
        "We'll need to set our `HF_TOKEN` so that we can send requests to our protected API endpoint.\n",
        "\n",
        "We'll also set-up our OpenAI API key, which we'll leverage later.\n",
        "\n"
      ]
    },
    {
      "cell_type": "code",
      "execution_count": 1,
      "metadata": {
        "colab": {
          "base_uri": "https://localhost:8080/"
        },
        "id": "NspG8I0XlFTt",
        "outputId": "d56a1a4e-4175-4522-9100-2261f412efbb"
      },
      "outputs": [],
      "source": [
        "import os\n",
        "import getpass\n",
        "\n",
        "os.environ[\"HF_TOKEN\"] = getpass.getpass(\"HuggingFace Write Token: \")"
      ]
    },
    {
      "cell_type": "code",
      "execution_count": 2,
      "metadata": {
        "colab": {
          "base_uri": "https://localhost:8080/"
        },
        "id": "giMejsXN7EKb",
        "outputId": "23327edb-4f59-4d6c-e145-54721b0836ad"
      },
      "outputs": [],
      "source": [
        "os.environ[\"OPENAI_API_KEY\"] = getpass.getpass(\"OpenAI API Key:\")"
      ]
    },
    {
      "cell_type": "markdown",
      "metadata": {
        "id": "-3M7TzXs3WsJ"
      },
      "source": [
        "## Task 4: Testing our Hugging Face Inference Endpoint\n",
        "\n",
        "Let's submit a sample request to the Hugging Face Inference endpoint!"
      ]
    },
    {
      "cell_type": "code",
      "execution_count": 3,
      "metadata": {
        "id": "uyFgZVUSEexW"
      },
      "outputs": [],
      "source": [
        "model_api_gateway = \"https://icuh2ytljj4lfl2g.us-east-1.aws.endpoints.huggingface.cloud\" # << YOUR ENDPOINT URL HERE"
      ]
    },
    {
      "cell_type": "markdown",
      "metadata": {
        "id": "EvnMlmEsEiqS"
      },
      "source": [
        "> NOTE: If you're running into issues finding your API URL you can find it at [this](https://ui.endpoints.huggingface.co/) link.\n",
        "\n",
        "Here's an example:\n",
        "\n",
        "![image](https://i.imgur.com/XyZhOv8.png)"
      ]
    },
    {
      "cell_type": "code",
      "execution_count": 4,
      "metadata": {
        "colab": {
          "base_uri": "https://localhost:8080/"
        },
        "id": "-fVaR1onmtkz",
        "outputId": "136a97cf-8faa-45de-fe1e-2c1449971d83"
      },
      "outputs": [
        {
          "name": "stdout",
          "output_type": "stream",
          "text": [
            "[{'generated_text': \"Hello! How are you? I'm doing well, thanks for asking! *smiles* It's great to see you here! *nods* Is there anything new you'd like to talk about or ask? I'm all ears! *winks*\"}]\n"
          ]
        }
      ],
      "source": [
        "import requests\n",
        "\n",
        "max_new_tokens = 256\n",
        "top_p = 0.9\n",
        "temperature = 0.1\n",
        "\n",
        "prompt = \"Hello! How are you?\"\n",
        "\n",
        "json_body = {\n",
        "    \"inputs\" : prompt,\n",
        "    \"parameters\" : {\n",
        "        \"max_new_tokens\" : max_new_tokens,\n",
        "        \"top_p\" : top_p,\n",
        "        \"temperature\" : temperature\n",
        "    }\n",
        "}\n",
        "\n",
        "headers = {\n",
        "  \"Authorization\": f\"Bearer {os.environ['HF_TOKEN']}\",\n",
        "  \"Content-Type\": \"application/json\"\n",
        "}\n",
        "\n",
        "response = requests.post(model_api_gateway, json=json_body, headers=headers)\n",
        "print(response.json())"
      ]
    },
    {
      "cell_type": "markdown",
      "metadata": {
        "id": "mXTBnBTy3b62"
      },
      "source": [
        "## Task 5: Creating LangChain components powered by the endpoints\n",
        "\n",
        "We're going to wrap our endpoints in LangChain components in order to leverage them, thanks to LCEL, as we would any other LCEL component!"
      ]
    },
    {
      "cell_type": "markdown",
      "metadata": {
        "id": "fd5DaxGEFohF"
      },
      "source": [
        "### HuggingFaceEndpoint for LLM\n",
        "\n",
        "We can use the `HuggingFaceEndpoint` found [here](https://github.com/langchain-ai/langchain/blob/master/libs/community/langchain_community/llms/huggingface_endpoint.py) to power our chain - let's look at how we would implement it."
      ]
    },
    {
      "cell_type": "code",
      "execution_count": 5,
      "metadata": {
        "colab": {
          "base_uri": "https://localhost:8080/"
        },
        "id": "8vc7K1rFhSVt",
        "outputId": "73f7b340-5156-4f6b-fd1f-11e588b49337"
      },
      "outputs": [
        {
          "name": "stderr",
          "output_type": "stream",
          "text": [
            "/home/miguel/anaconda3/envs/AIE2/lib/python3.9/site-packages/tqdm/auto.py:21: TqdmWarning: IProgress not found. Please update jupyter and ipywidgets. See https://ipywidgets.readthedocs.io/en/stable/user_install.html\n",
            "  from .autonotebook import tqdm as notebook_tqdm\n"
          ]
        },
        {
          "name": "stdout",
          "output_type": "stream",
          "text": [
            "The token has not been saved to the git credentials helper. Pass `add_to_git_credential=True` in this function directly or `--add-to-git-credential` if using via `huggingface-cli` if you want to set the git credential as well.\n",
            "Token is valid (permission: write).\n",
            "Your token has been saved to /home/miguel/.cache/huggingface/token\n",
            "Login successful\n"
          ]
        }
      ],
      "source": [
        "from langchain.llms import HuggingFaceEndpoint\n",
        "\n",
        "endpoint_url = (\n",
        "    model_api_gateway\n",
        ")\n",
        "\n",
        "hf_llm = HuggingFaceEndpoint(\n",
        "    endpoint_url=endpoint_url,\n",
        "    huggingfacehub_api_token=os.environ[\"HF_TOKEN\"],\n",
        "    task=\"text-generation\"\n",
        ")"
      ]
    },
    {
      "cell_type": "markdown",
      "metadata": {
        "id": "t-PBb3MPFN_t"
      },
      "source": [
        "Now we can use our endpoint like we would any other LLM!"
      ]
    },
    {
      "cell_type": "code",
      "execution_count": 6,
      "metadata": {
        "colab": {
          "base_uri": "https://localhost:8080/",
          "height": 123
        },
        "id": "mMJrWnKISFqb",
        "outputId": "d661643a-b611-4766-a84e-55afeb473d91"
      },
      "outputs": [
        {
          "data": {
            "text/plain": [
              "\"\\n\\nI'm doing well, thank you for asking! How about you?\\n\\nI'm feeling a bit under the weather today, but I'm hoping it will pass soon.\\n\\nIt's always nice to chat with you, how has your week been?\\n\\nAnything new and exciting happening in your life?\\n\\nI'm looking forward to hearing about it!\""
            ]
          },
          "execution_count": 6,
          "metadata": {},
          "output_type": "execute_result"
        }
      ],
      "source": [
        "hf_llm.invoke(\"Hello, how are you?\")"
      ]
    },
    {
      "cell_type": "markdown",
      "metadata": {
        "id": "1EBtSBMj3-Hu"
      },
      "source": [
        "### HuggingFaceInferenceAPIEmbeddings\n",
        "\n",
        "Now we can leverage the `HuggingFaceInferenceAPIEmbeddings` module in LangChain to connect to our Hugging Face Inference Endpoint hosted embedding model."
      ]
    },
    {
      "cell_type": "code",
      "execution_count": 7,
      "metadata": {
        "id": "wrZJHVGkGLZr"
      },
      "outputs": [],
      "source": [
        "embedding_api_gateway = \"https://erqo1ja33kgwzer8.us-east-1.aws.endpoints.huggingface.cloud\" # << Embedding Endpoint API URL"
      ]
    },
    {
      "cell_type": "code",
      "execution_count": 8,
      "metadata": {
        "id": "4asz9Ofn0MtP"
      },
      "outputs": [],
      "source": [
        "from langchain.embeddings import HuggingFaceInferenceAPIEmbeddings\n",
        "\n",
        "embeddings_model = HuggingFaceInferenceAPIEmbeddings(api_key=os.environ[\"HF_TOKEN\"], api_url=embedding_api_gateway)"
      ]
    },
    {
      "cell_type": "code",
      "execution_count": 9,
      "metadata": {
        "colab": {
          "base_uri": "https://localhost:8080/"
        },
        "id": "HvF_eMZZKnlm",
        "outputId": "56958042-8212-406f-b378-ed018f5ffad2"
      },
      "outputs": [
        {
          "data": {
            "text/plain": [
              "[-0.026424622,\n",
              " 0.035885748,\n",
              " 0.0094334055,\n",
              " 0.011660095,\n",
              " 0.0065645785,\n",
              " 0.008227667,\n",
              " -0.036902077,\n",
              " -0.03631076,\n",
              " -0.024853928,\n",
              " -0.005395797]"
            ]
          },
          "execution_count": 9,
          "metadata": {},
          "output_type": "execute_result"
        }
      ],
      "source": [
        "embeddings_model.embed_query(\"Hello, welcome to HF Endpoint Embeddings\")[:10]"
      ]
    },
    {
      "cell_type": "markdown",
      "metadata": {
        "id": "EtbNzDF-e7JI"
      },
      "source": [
        "#### ❓ Question #1\n",
        "\n",
        "What is the embedding dimension of your selected embeddings model?"
      ]
    },
    {
      "cell_type": "markdown",
      "metadata": {},
      "source": [
        "Snowflake/snowflake-arctic-embed-m Embedding dimension -> 768"
      ]
    },
    {
      "cell_type": "markdown",
      "metadata": {
        "id": "P9pLgHfR3uY9"
      },
      "source": [
        "## Task 6: Retrieving data from Arxiv\n",
        "\n",
        "We'll leverage the `ArxivLoader` to load some papers about the \"QLoRA\" topic, and then split them into more manageable chunks!"
      ]
    },
    {
      "cell_type": "code",
      "execution_count": 10,
      "metadata": {
        "id": "7yO05R6mtyCB"
      },
      "outputs": [],
      "source": [
        "from langchain.document_loaders import ArxivLoader\n",
        "\n",
        "docs = ArxivLoader(query=\"QLoRA\", load_max_docs=5).load()"
      ]
    },
    {
      "cell_type": "code",
      "execution_count": 11,
      "metadata": {},
      "outputs": [
        {
          "data": {
            "text/plain": [
              "Document(page_content='QLORA: Efficient Finetuning of Quantized LLMs\\nTim Dettmers∗\\nArtidoro Pagnoni∗\\nAri Holtzman\\nLuke Zettlemoyer\\nUniversity of Washington\\n{dettmers,artidoro,ahai,lsz}@cs.washington.edu\\nAbstract\\nWe present QLORA, an efficient finetuning approach that reduces memory us-\\nage enough to finetune a 65B parameter model on a single 48GB GPU while\\npreserving full 16-bit finetuning task performance. QLORA backpropagates gradi-\\nents through a frozen, 4-bit quantized pretrained language model into Low Rank\\nAdapters (LoRA). Our best model family, which we name Guanaco, outperforms\\nall previous openly released models on the Vicuna benchmark, reaching 99.3%\\nof the performance level of ChatGPT while only requiring 24 hours of finetuning\\non a single GPU. QLORA introduces a number of innovations to save memory\\nwithout sacrificing performance: (a) 4-bit NormalFloat (NF4), a new data type that\\nis information theoretically optimal for normally distributed weights (b) Double\\nQuantization to reduce the average memory footprint by quantizing the quantization\\nconstants, and (c) Paged Optimizers to manage memory spikes. We use QLORA\\nto finetune more than 1,000 models, providing a detailed analysis of instruction\\nfollowing and chatbot performance across 8 instruction datasets, multiple model\\ntypes (LLaMA, T5), and model scales that would be infeasible to run with regular\\nfinetuning (e.g. 33B and 65B parameter models). Our results show that QLoRA\\nfinetuning on a small high-quality dataset leads to state-of-the-art results, even\\nwhen using smaller models than the previous SoTA. We provide a detailed analysis\\nof chatbot performance based on both human and GPT-4 evaluations showing that\\nGPT-4 evaluations are a cheap and reasonable alternative to human evaluation. Fur-\\nthermore, we find that current chatbot benchmarks are not trustworthy to accurately\\nevaluate the performance levels of chatbots. A lemon-picked analysis demonstrates\\nwhere Guanaco fails compared to ChatGPT. We release all of our models and code,\\nincluding CUDA kernels for 4-bit training.2\\n1\\nIntroduction\\nFinetuning large language models (LLMs) is a highly effective way to improve their performance,\\n[40, 62, 43, 61, 59, 37] and to add desirable or remove undesirable behaviors [43, 2, 4]. However,\\nfinetuning very large models is prohibitively expensive; regular 16-bit finetuning of a LLaMA 65B\\nparameter model [57] requires more than 780 GB of GPU memory. While recent quantization\\nmethods can reduce the memory footprint of LLMs [14, 13, 18, 66], such techniques only work for\\ninference and break down during training [65].\\nWe demonstrate for the first time that it is possible to finetune a quantized 4-bit model without any\\nperformance degradation. Our method, QLORA, uses a novel high-precision technique to quantize\\na pretrained model to 4-bit, then adds a small set of learnable Low-rank Adapter weights [28]\\n∗Equal contribution.\\n2https://github.com/artidoro/qlora and https://github.com/TimDettmers/bitsandbytes\\nPreprint. Under review.\\narXiv:2305.14314v1  [cs.LG]  23 May 2023\\nTable 1: Elo ratings for a competition between\\nmodels, averaged for 10,000 random initial order-\\nings. The winner of a match is determined by\\nGPT-4 which declares which response is better for\\na given prompt of the the Vicuna benchmark. 95%\\nconfidence intervals are shown (±). After GPT-\\n4, Guanaco 33B and 65B win the most matches,\\nwhile Guanaco 13B scores better than Bard.\\nModel\\nSize\\nElo\\nGPT-4\\n-\\n1348 ± 1\\nGuanaco 65B\\n41 GB\\n1022 ± 1\\nGuanaco 33B\\n21 GB\\n992 ± 1\\nVicuna 13B\\n26 GB\\n974 ± 1\\nChatGPT\\n-\\n966 ± 1\\nGuanaco 13B\\n10 GB\\n916 ± 1\\nBard\\n-\\n902 ± 1\\nGuanaco 7B\\n6 GB\\n879 ± 1\\nthat are tuned by backpropagating gradients through\\nthe quantized weights.\\nQLORA reduces the average memory requirements\\nof finetuning a 65B parameter model from >780GB\\nof GPU memory to <48GB without degrading the\\nruntime or predictive performance compared to a 16-\\nbit fully finetuned baseline. This marks a significant\\nshift in accessibility of LLM finetuning: now the\\nlargest publicly available models to date finetunable\\non a single GPU. Using QLORA, we train the Gua-\\nnaco family of models, with the second best model\\nreaching 97.8% of the performance level of ChatGPT\\non the Vicuna [10] benchmark, while being trainable\\nin less than 12 hours on a single consumer GPU;\\nusing a single professional GPU over 24 hours we\\nachieve 99.3% with our largest model, essentially\\nclosing the gap to ChatGPT on the Vicuna bench-\\nmark. When deployed, our smallest Guanaco model\\n(7B parameters) requires just 5 GB of memory and outperforms a 26 GB Alpaca model by more than\\n20 percentage points on the Vicuna benchmark (Table 6).\\nQLORA introduces multiple innovations designed to reduce memory use without sacrificing per-\\nformance: (1) 4-bit NormalFloat, an information theoretically optimal quantization data type for\\nnormally distributed data that yields better empirical results than 4-bit Integers and 4-bit Floats.\\n(2) Double Quantization, a method that quantizes the quantization constants, saving an average\\nof about 0.37 bits per parameter (approximately 3 GB for a 65B model). (3) Paged Optimizers,\\nusing NVIDIA unified memory to avoid the gradient checkpointing memory spikes that occur when\\nprocessing a mini-batch with a long sequence length. We combine these contributions into a better\\ntuned LoRA approach that includes adapters at every network layer and thereby avoids almost all of\\nthe accuracy tradeoffs seen in prior work.\\nQLORA’s efficiency enables us to perform an in-depth study of instruction finetuning and chatbot\\nperformance on model scales that would be impossible using regular finetuning due to memory\\noverhead. Therefore, we train more than 1,000 models across several instruction tuning datasets,\\nmodel architectures, and sizes between 80M to 65B parameters. In addition to showing that QLORA\\nrecovers 16-bit performance (§4) and training a state-of-the-art chatbot, Guanaco, (§5), we also\\nanalyze trends in the trained models. First, we find that data quality is far more important than\\ndataset size, e.g., a 9k sample dataset (OASST1) outperformed a 450k sample dataset (FLAN v2,\\nsubsampled) on chatbot performance, even when both are meant to support instruction following\\ngeneralization. Second, we show that strong Massive Multitask Language Understanding (MMLU)\\nbenchmark performance does not imply strong Vicuna chatbot benchmark performance and vice\\nversa—in other words, dataset suitability matters more than size for a given task.\\nFurthermore, we also provide a extensive analysis of chatbot performance that uses both human\\nraters and GPT-4 for evaluation. We use tournament-style benchmarking where models compete\\nagainst each other in matches to produce the best response for a given prompt. The winner of a\\nmatch is judged by either GPT-4 or human annotators. The tournament results are aggregated into\\nElo scores [16, 17] which determine the ranking of chatbot performance. We find that GPT-4 and\\nhuman evaluations largely agree on the rank of model performance in the tournaments, but we also\\nfind there are instances of strong disagreement. As such, we highlight that model-based evaluation\\nwhile providing a cheap alternative to human-annotation also has its uncertainties.\\nWe augment our chatbot benchmark results with a qualitative analysis of Guanaco models. Our analy-\\nsis highlights success and failure cases that were not captured by the quantitative benchmarks.\\nWe release all model generations with human and GPT-4 annotations to facilitate further study. We\\nopen-source our codebase and CUDA kernels and integrate our methods into the Hugging Face\\ntransformers stack [64], making them easily accessible to all. We release a collection of adapters\\nfor 7/13/33/65B size models, trained on 8 different instruction following datasets, for a total of 32\\ndifferent open sourced, finetuned models.\\n2\\nFigure 1: Different finetuning methods and their memory requirements. QLORA improves over LoRA by\\nquantizing the transformer model to 4-bit precision and using paged optimizers to handle memory spikes.\\n2\\nBackground\\nBlock-wise k-bit Quantization\\nQuantization is the process of discretizing an input from a rep-\\nresentation that holds more information to a representation with less information. It often means\\ntaking a data type with more bits and converting it to fewer bits, for example from 32-bit floats to\\n8-bit Integers. To ensure that the entire range of the low-bit data type is used, the input data type is\\ncommonly rescaled into the target data type range through normalization by the absolute maximum\\nof the input elements, which are usually structured as a tensor. For example, quantizing a 32-bit\\nFloating Point (FP32) tensor into a Int8 tensor with range [−127, 127]:\\nXInt8 = round\\n\\x12\\n127\\nabsmax(XFP32)XFP32\\n\\x13\\n= round(cFP32 · XFP32),\\n(1)\\nwhere c is the quantization constant or quantization scale. Dequantization is the inverse:\\ndequant(cFP32, XInt8) = XInt8\\ncFP32 = XFP32\\n(2)\\nThe problem with this approach is that if a large magnitude value (i.e., an outlier) occurs in the input\\ntensor, then the quantization bins—certain bit combinations—are not utilized well with few or no\\nnumbers quantized in some bins. To prevent the outlier issue, a common approach is to chunk the\\ninput tensor into blocks that are independently quantized, each with their own quantization constant c.\\nThis can be formalized as follows: We chunk the input tensor X ∈Rb×h into n contiguous blocks of\\nsize B by flattening the input tensor and slicing the linear segment into n = (b × h)/B blocks. We\\nquantize these blocks independently with Equation 1 to create a quantized tensor and n quantization\\nconstants ci.\\nLow-rank Adapters\\nLow-rank Adapter (LoRA) finetuning [28] is a method that reduces memory\\nrequirements by using a small set of trainable parameters, often termed adapters, while not updating\\nthe full model parameters which remain fixed. Gradients during stochastic gradient descent are\\npassed through the fixed pretrained model weights to the adapter, which is updated to optimize the\\nloss function. LoRA augments a linear projection through an additional factorized projection. Given\\na projection XW = Y with X ∈Rb×h, W ∈Rh×o LoRA computes:\\nY = XW + sXL1L2,\\n(3)\\nwhere L1 ∈Rh×r and L2 ∈Rr×o, and s is a scalar.\\nMemory Requirement of Parameter-Efficient Finetuning\\nOne important point of discussion is\\nthe memory requirement of LoRA during training both in terms of the number and size of adapters\\nused. Since the memory footprint of LoRA is so minimal, we can use more adapters to improve\\nperformance without significantly increasing the total memory used. While LoRA was designed as a\\n3\\nParameter Efficient Finetuning (PEFT) method, most of the memory footprint for LLM finetuning\\ncomes from activation gradients and not from the learned LoRA parameters. For a 7B LLaMA\\nmodel trained on FLAN v2 with a batch size of 1, with LoRA weights equivalent to commonly used\\n0.2% of the original model weights[28, 37], the LoRA input gradients have a memory footprint\\nof 567 MB while the LoRA parameters take up only 26 MB. With gradient checkpointing [9], the\\ninput gradients reduce to an average of 18 MB per sequence making them more memory intensive\\nthan all LoRA weights combined. In comparison, the 4-bit base model consumes 5,048 MB of\\nmemory. This highlights that gradient checkpointing is important but also that aggressively reducing\\nthe amount of LoRA parameter yields only minor memory benefits. This means we can use more\\nadapters without significantly increasing the overall training memory footprint (see Appendix G\\nfor a detailed breakdown). As discussed later, this is crucial for recovering full 16-bit precision\\nperformance.\\n3\\nQLORA Finetuning\\nQLORA achieves high-fidelity 4-bit finetuning via two techniques we propose—4-bit NormalFloat\\n(NF4) quantization and Double Quantization. Additionally, we introduce Paged Optimizers, to\\nprevent memory spikes during gradient checkpointing from causing out-of-memory errors that have\\ntraditionally made finetuning on a single machine difficult for large models.\\nQLORA has one low-precision storage data type, in our case usually 4-bit, and one computation data\\ntype that is usually BFloat16. In practice, this means whenever a QLORA weight tensor is used, we\\ndequantize the tensor to BFloat16, and then perform a matrix multiplication in 16-bit.\\nWe now discuss the components of QLORA followed by a formal definition of QLORA.\\n4-bit NormalFloat Quantization\\nThe NormalFloat (NF) data type builds on Quantile Quantization\\n[15] which is an information-theoretically optimal data type that ensures each quantization bin has an\\nequal number of values assigned from the input tensor. Quantile quantization works by estimating\\nthe quantile of the input tensor through the empirical cumulative distribution function.\\nThe main limitation of quantile quantization is that the process of quantile estimation is expensive.\\nTherefore fast quantile approximation algorithms, such as SRAM quantiles [15], are used to estimate\\nthem. Due to the approximate nature of these quantile estimation algorithms, the data type has large\\nquantization errors for outliers, which are often the most important values.\\nExpensive quantile estimates and approximation errors can be avoided when input tensors come from\\na distribution fixed up to a quantization constant. In such cases, input tensors have the same quantiles\\nmaking exact quantile estimation computationally feasible.\\nSince pretrained neural network weights usually have a zero-centered normal distribution with\\nstandard deviation σ (see Appendix F), we can transform all weights to a single fixed distribution by\\nscaling σ such that the distribution fits exactly into the range of our data type. For our data type, we\\nset the arbitrary range [−1, 1]. As such, both the quantiles for the data type and the neural network\\nweights need to be normalized into this range.\\nThe information theoretically optimal data type for zero-mean normal distributions with arbitrary\\nstandard deviations σ in the range [−1, 1] is computed as follows: (1) estimate the 2k + 1 quantiles\\nof a theoretical N(0, 1) distribution to obtain a k-bit quantile quantization data type for normal distri-\\nbutions, (2) take this data type and normalize its values into the [−1, 1] range, (3) quantize an input\\nweight tensor by normalizing it into the [−1, 1] range through absolute maximum rescaling.\\nOnce the weight range and data type range match, we can quantize as usual. Step (3) is equivalent to\\nrescaling the standard deviation of the weight tensor to match the standard deviation of the k-bit data\\ntype. More formally, we estimate the 2k values qi of the data type as follows:\\nqi = 1\\n2\\n\\x12\\nQX\\n\\x12\\ni\\n2k + 1\\n\\x13\\n+ QX\\n\\x12 i + 1\\n2k + 1\\n\\x13\\x13\\n,\\n(4)\\nwhere QX(·) is the quantile function of the standard normal distribution N(0, 1). A problem for\\na symmetric k-bit quantization is that this approach does not have an exact representation of zero,\\nwhich is an important property to quantize padding and other zero-valued elements with no error. To\\n4\\nensure a discrete zeropoint of 0 and to use all 2k bits for a k-bit datatype, we create an asymmetric\\ndata type by estimating the quantiles qi of two ranges qi: 2k−1 for the negative part and 2k−1 + 1 for\\nthe positive part and then we unify these sets of qi and remove one of the two zeros that occurs in both\\nsets. We term the resulting data type that has equal expected number of values in each quantization bin\\nk-bit NormalFloat (NFk), since the data type is information-theoretically optimal for zero-centered\\nnormally distributed data. The exact values of this data type can be found in Appendix E.\\nDouble Quantization\\nWe introduce Double Quantization (DQ), the process of quantizing the\\nquantization constants for additional memory savings. While a small blocksize is required for precise\\n4-bit quantization [13], it also has a considerable memory overhead. For example, using 32-bit\\nconstants and a blocksize of 64 for W, quantization constants add 32/64 = 0.5 bits per parameter on\\naverage. Double Quantization helps reduce the memory footprint of quantization constants.\\nMore specifically, Double Quantization treats quantization constants cFP32\\n2\\nof the first quantization\\nas inputs to a second quantization. This second step yields the quantized quantization constants\\ncFP8\\n2\\nand the second level of quantization constants cFP32\\n1\\n. We use 8-bit Floats with a blocksize of\\n256 for the second quantization as no performance degradation is observed for 8-bit quantization,\\nin line with results from Dettmers and Zettlemoyer [13]. Since the cFP32\\n2\\nare positive, we subtract\\nthe mean from c2 before quantization to center the values around zero and make use of symmetric\\nquantization. On average, for a blocksize of 64, this quantization reduces the memory footprint per\\nparameter from 32/64 = 0.5 bits, to 8/64 + 32/(64 · 256) = 0.127 bits, a reduction of 0.373 bits\\nper parameter.\\nPaged Optimizers\\nuse the NVIDIA unified memory 3 feature wich does automatic page-to-page\\ntransfers between the CPU and GPU for error-free GPU processing in the scenario where the GPU\\noccasionally runs out-of-memory. The feature works like regular memory paging between CPU RAM\\nand the disk. We use this feature to allocate paged memory for the optimizer states which are then\\nautomatically evicted to CPU RAM when the GPU runs out-of-memory and paged back into GPU\\nmemory when the memory is needed in the optimizer update step.\\nQLORA.\\nUsing the components described above, we define QLORA for a single linear layer in\\nthe quantized base model with a single LoRA adapter as follows:\\nYBF16 = XBF16doubleDequant(cFP32\\n1\\n, ck-bit\\n2\\n, WNF4) + XBF16LBF16\\n1\\nLBF16\\n2\\n,\\n(5)\\nwhere doubleDequant(·) is defined as:\\ndoubleDequant(cFP32\\n1\\n, ck-bit\\n2\\n, Wk-bit) = dequant(dequant(cFP32\\n1\\n, ck-bit\\n2\\n), W4bit) = WBF16,\\n(6)\\nWe use NF4 for W and FP8 for c2. We use a blocksize of 64 for W for higher quantization precision\\nand a blocksize of 256 for c2 to conserve memory.\\nFor parameter updates only the gradient with respect to the error for the adapters weights ∂E\\n∂Li are\\nneeded, and not for 4-bit weights ∂E\\n∂W. However, the calculation of ∂E\\n∂Li entails the calculation of ∂X\\n∂W\\nwhich proceeds via equation (5) with dequantization from storage WNF4 to computation data type\\nWBF16 to calculate the derivative ∂X\\n∂W in BFloat16 precision.\\nTo summarize, QLORA has one storage data type (usually 4-bit NormalFloat) and a computation\\ndata type (16-bit BrainFloat). We dequantize the storage data type to the computation data type\\nto perform the forward and backward pass, but we only compute weight gradients for the LoRA\\nparameters which use 16-bit BrainFloat.\\n4\\nQLoRA vs. Standard Finetuning\\nWe have discussed how QLoRA works and how it can significantly reduce the required memory for\\nfinetuning models. The main question now is whether QLoRA can perform as well as full-model\\nfinetuning. Furthermore, we want to analyze the components of QLoRA including the impact of\\nNormalFloat4 over standard Float4. The following sections will discuss the experiments that aimed\\nat answering these questions.\\n3https://docs.nvidia.com/cuda/cuda-c-programming-guide\\n5\\nExperimental setup.\\nWe consider three architectures (encoder, encoder-decoder, and decoder only)\\nand compare QLoRA with 16-bit adapter-finetuning and with full-finetuning for models up to 3B. Our\\nevaluations include GLUE [58] with RoBERTa-large [38], Super-NaturalInstructions (TKInstruct)\\n[61] with T5 [49], and 5-shot MMLU [24] after finetuning LLaMA on Flan v2 [39] and Alpaca\\n[55]. To additionally study the advantages of NF4 over other 4-bit data types, we use the setup of\\nDettmers and Zettlemoyer [13] and measure post-quantization zero-shot accuracy and perplexity\\nacross different models (OPT [72], LLaMA [57], BLOOM [52], Pythia [7]) for model sizes 125m -\\n13B. We provide more details in the results section for each particular setup to make the results more\\nreadable. Full details in Appendix A.\\nQLoRA-All\\nQLoRA-FFN\\nQLoRA-Attention\\nAlpaca (ours)\\nStanford-Alpaca\\nModel\\n60\\n61\\n62\\n63\\n64\\nRougeL\\nbits\\n4\\n16\\nFigure 2: RougeL for LLaMA 7B models on the\\nAlpaca dataset. Each point represents a run with a\\ndifferent random seed. We improve on the Stanford\\nAlpaca fully finetuned default hyperparameters to\\nconstruct a strong 16-bit baseline for comparisons.\\nUsing LoRA on all transformer layers is critical to\\nmatch 16-bit performance.\\nWhile paged optimizers are critical to do 33B/65B\\nQLORA tuning on a single 24/48GB GPU, we do\\nnot provide hard measurements for Paged Optimiz-\\ners since the paging only occurs when processing\\nmini-batches with long sequence lengths, which is\\nrare. We do, however, perform an analysis of the\\nruntime of paged optimizers for 65B models on\\n48GB GPUs and find that with a batch size of 16,\\npaged optimizers provide the same training speed\\nas regular optimizers. Future work should measure\\nand characterize under what circumstances slow-\\ndowns occur from the paging process.\\nDefault LoRA hyperparameters do not match 16-\\nbit performance\\nWhen using the standard prac-\\ntice of applying LoRA to query and value attention\\nprojection matrices [28], we are not able to replicate\\nfull finetuning performance for large base models.\\nAs shown in Figure 2 for LLaMA 7B finetuning on\\nAlpaca, we find that the most critical LoRA hyper-\\nparameter is how many LoRA adapters are used in\\ntotal and that LoRA on all linear transformer block\\nlayers are required to match full finetuning perfor-\\nmance. Other LoRA hyperparameters, such as the\\nprojection dimension r, do not affect performance (see Appendix A).\\n1010\\n1011\\nT\\notal model bits\\n0.60\\n0.61\\n0.62\\n0.63\\n0.64\\n0.65\\n0.66\\n0.67\\nMean zeroshot accuracy\\n4-bit LLaMA\\nFloat\\nNFloat\\nNFloat + DQ\\nData type\\nFigure 3: Mean zero-shot accuracy over Wino-\\ngrande, HellaSwag, PiQA, Arc-Easy, and Arc-\\nChallenge using LLaMA models with different 4-bit\\ndata types. The NormalFloat data type significantly\\nimproves the bit-for-bit accuracy gains compared\\nto regular 4-bit Floats. While Double Quantization\\n(DQ) only leads to minor gains, it allows for a more\\nfine-grained control over the memory footprint to fit\\nmodels of certain size (33B/65B) into certain GPUs\\n(24/48GB).\\nSimilarly, we find that default hyperparameters for\\nfully finetuned baselines are undertuned. We do a\\nhyperparameter search over learning rates 1e-6 to\\n5e-5 and batch sizes 8 to 128 to find robust baselines.\\nResults for 7B LLaMA finetuning on Alpaca are\\nshown in Figure 2.\\n4-bit NormalFloat yields better performance\\nthan 4-bit Floating Point\\nWhile the 4-bit\\nNormalFloat (NF4) data type is information-\\ntheoretically optimal, it still needs to be determined\\nif this property translates to empirical advantages.\\nWe follow the setup from Dettmers and Zettlemoyer\\n[13] where quantized LLMs (OPT [72], BLOOM\\n[52], Pythia [7], LLaMA) of different sizes (125M\\nto 65B) with different data types are evaluated on\\nlanguage modeling and a set of zero-shot tasks. In\\nFigure 3 and Table 2 we see that NF4 improves per-\\nformance significantly over FP4 and Int4 and that\\ndouble quantization reduces the memory footprint\\nwithout degrading performance.\\nk-bit QLORA matches 16-bit full finetuning and\\n16-bit LoRA performance\\nRecent findings have\\nestablished that 4-bit quantization for inference is\\n6\\nTable 3: Experiments comparing 16-bit BrainFloat (BF16), 8-bit Integer (Int8), 4-bit Float (FP4), and 4-\\nbit NormalFloat (NF4) on GLUE and Super-NaturalInstructions. QLORA replicates 16-bit LoRA and full-\\nfinetuning.\\nDataset\\nGLUE (Acc.)\\nSuper-NaturalInstructions (RougeL)\\nModel\\nRoBERTa-large\\nT5-80M\\nT5-250M\\nT5-780M\\nT5-3B\\nT5-11B\\nBF16\\n88.6\\n40.1\\n42.1\\n48.0\\n54.3\\n62.0\\nBF16 replication\\n88.6\\n40.0\\n42.2\\n47.3\\n54.9\\n-\\nLoRA BF16\\n88.8\\n40.5\\n42.6\\n47.1\\n55.4\\n60.7\\nQLORA Int8\\n88.8\\n40.4\\n42.9\\n45.4\\n56.5\\n60.7\\nQLORA FP4\\n88.6\\n40.3\\n42.4\\n47.5\\n55.6\\n60.9\\nQLORA NF4 + DQ\\n-\\n40.4\\n42.7\\n47.7\\n55.3\\n60.9\\npossible, but leads to performance degradation rel-\\native to 16-bit [13, 18]. This raises the crucial question of whether the lost performance can be\\nrecovered by conducting 4-bit adapter finetuning. We test this for two setups.\\nTable 2: Pile Common Crawl mean\\nperplexity for different data types\\nfor 125M to 13B OPT, BLOOM,\\nLLaMA, and Pythia models.\\nData type\\nMean PPL\\nInt4\\n34.34\\nFloat4 (E2M1)\\n31.07\\nFloat4 (E3M0)\\n29.48\\nNFloat4 + DQ\\n27.41\\nThe first focuses on a comparison with full 16-bit finetuning\\nof RoBERTA and T5 models sized 125M to 3B parameters on\\nGLUE and the Super-NaturalInstructions dataset. Results are\\nshown in Table 3. In both datasets, we observe that 16-bit, 8-bit,\\nand 4-bit adapter methods replicate the performance of the fully\\nfinetuned 16-bit baseline. This suggests that the performance lost\\ndue to the imprecise quantization can be fully recovered through\\nadapter finetuning after quantization.\\nFor our second setup, since full finetuning models at and beyond\\n11B parameters requires more than one server of high memory\\nGPUs, we continue to test whether 4-bit QLORA can match\\n16-bit LoRA at the 7B to 65B parameter scales. To this end, we\\nfinetune LLaMA 7B through 65B on two instruction following\\ndatasets, Alpaca and FLAN v2, and evaluate on the MMLU benchmark via 5-shot accuracy. Results\\nare shown in Table 4 where we see that NF4 with double quantization fully recovers the 16-bit\\nLoRA MMLU performance. In addition, we also note that QLORA with FP4 lags behind the 16-bit\\nbrain float LoRA baseline by about 1 percentage point. This corroborates both our findings that (1)\\nQLORA with NF4 replicates both 16-bit full finetuning and 16-bit LoRA finetuning performance,\\nand (2) NF4 is superior to FP4 in terms of quantization precision.\\nSummary\\nOur results consistently show that 4-bit QLORA with NF4 data type matches 16-\\nbit full finetuning and 16-bit LoRA finetuning performance on academic benchmarks with well-\\nestablished evaluation setups. We have also shown that NF4 is more effective than FP4 and that\\ndouble quantization does not degrade performance. Combined, this forms compelling evidence that\\n4-bit QLORA tuning reliably yields results matching 16-bit methods.\\nIn line with previous work on quantization [13], our MMLU and Elo results indicate that with a given\\nfinetuning and inference resource budget it is beneficial to increase the number of parameters in the\\nbase model while decreasing their precision. This highlights the importance of efficiency benefits\\nfrom QLORA. Since we did not observe performance degradation compared to full-finetuning in\\nour experiments with 4-bit finetuning, this raises the question of where the performance-precision\\ntrade-off exactly lies for QLoRA tuning, which we leave to future work to explore.\\nWe proceed to investigate instruction tuning at scales that would be impossible to explore with full\\n16-bit finetuning on academic research hardware.\\n5\\nPushing the Chatbot State-of-the-art with QLoRA\\nHaving established that 4-bit QLORA matches 16-bit performance across scales, tasks, and datasets\\nwe conduct an in-depth study of instruction finetuning up to the largest open-source language models\\navailable for research. To assess the performance of instruction finetuning these models, we evaluate\\n7\\nTable 4: Mean 5-shot MMLU test accuracy for LLaMA 7-65B models finetuned with adapters on Alpaca and\\nFLAN v2 for different data types. Overall, NF4 with double quantization (DQ) matches BFloat16 performance,\\nwhile FP4 is consistently one percentage point behind both.\\nMean 5-shot MMLU Accuracy\\nLLaMA Size\\n7B\\n13B\\n33B\\n65B\\nMean\\nDataset\\nAlpaca\\nFLAN v2\\nAlpaca\\nFLAN v2\\nAlpaca\\nFLAN v2\\nAlpaca\\nFLAN v2\\nBFloat16\\n38.4\\n45.6\\n47.2\\n50.6\\n57.7\\n60.5\\n61.8\\n62.5\\n53.0\\nFloat4\\n37.2\\n44.0\\n47.3\\n50.0\\n55.9\\n58.5\\n61.3\\n63.3\\n52.2\\nNFloat4 + DQ\\n39.0\\n44.5\\n47.5\\n50.7\\n57.3\\n59.2\\n61.8\\n63.9\\n53.1\\non a challenging Natural Language Understanding benchmark (MMLU) and develop new methods\\nfor real-world chatbot performance evaluation.\\n5.1\\nExperimental setup\\nWe now describe an overview of the experimental setup with full details in Appendix B.\\nData\\nAs, to our knowledge, there is no comprehensive study of recent instruction-following datasets,\\nwe select eight recent datasets. We include datasets obtained through crowd-sourcing (OASST1 [31],\\nHH-RLHF [4]), distillation from instruction-tuned models (Alpaca [55], self-instruct [59], unnatural-\\ninstructions [26]), corpora aggregations (FLAN v2 [12]), as well as hybrids (Chip2 [32], Long-\\nform [30]). These datasets cover different languages, data sizes, and licenses.\\nTraining Setup\\nTo avoid confounding effects from different training objectives, we perform QLoRA\\nfinetuning with cross-entropy loss (supervised learning) without reinforcement learning, even for\\ndatasets that include human judgments of different responses. For datasets that have a clear distinction\\nbetween instruction and response, we finetune only on the response (see ablations in Appendix B).\\nFor OASST1 and HH-RLHF, multiple responses are available. We then select the top response at\\nevery level of the conversation tree and finetune on the full selected conversation, including the\\ninstructions. In all of our experiments, we use NF4 QLORA with double quantization and paged\\noptimizers to prevent memory spikes during gradient checkpointing. We do small hyperparameter\\nsearches for the 13B and 33B LLaMA models and we find that all hyperparameter settings found\\nat 7B generalize (including number of epochs) except learning rate and batch size. We halve the\\nlearning rate for 33B and 65B while doubling the batch size.\\nBaselines\\nWe compare our models to both research (Vicuna [10] and Open Assistant [31]) and\\ncommercial (GPT-4 [42], GPT-3.5-turbo and Bard) chatbot systems. The Open Assistant model is\\na LLaMA 33B model finetuned with Reinforcement Learning from Human Feedback (RLHF) on\\nthe same OASST1 dataset that we experiment with. Vicuna does full fine-tuning of LLaMA 13B\\non proprietary user-shared conversations from ShareGPT and is thus the result of distillation from\\nOpenAI GPT models.\\n5.2\\nEvaluation\\nTable 5: MMLU 5-shot test results for different\\nsizes of LLaMA finetuned on the corresponding\\ndatasets using QLoRA.\\nDataset\\n7B\\n13B\\n33B\\n65B\\nLLaMA no tuning\\n35.1\\n46.9\\n57.8\\n63.4\\nSelf-Instruct\\n36.4\\n33.3\\n53.0\\n56.7\\nLongform\\n32.1\\n43.2\\n56.6\\n59.7\\nChip2\\n34.5\\n41.6\\n53.6\\n59.8\\nHH-RLHF\\n34.9\\n44.6\\n55.8\\n60.1\\nUnnatural Instruct\\n41.9\\n48.1\\n57.3\\n61.3\\nGuanaco (OASST1)\\n36.6\\n46.4\\n57.0\\n62.2\\nAlpaca\\n38.8\\n47.8\\n57.3\\n62.5\\nFLAN v2\\n44.5\\n51.4\\n59.2\\n63.9\\nFollowing common practice, we use the MMLU (Mas-\\nsively Multitask Language Understanding) benchmark\\n[24] to measure performance on a range of language un-\\nderstanding tasks. This is a multiple-choice benchmark\\ncovering 57 tasks including elementary mathematics,\\nUS history, computer science, law, and more. We report\\n5-shot test accuracy.\\nWe also test generative language capabilities through\\nboth automated and human evaluations. This second\\nset of evaluations relies on queries curated by humans\\nand aims at measuring the quality of model responses.\\nWhile this is a more realistic testbed for chatbot model\\nperformance and is growing in popularity, there is no\\ncommonly accepted protocol in the literature. We de-\\nscribe below our proposed setup, using nucleus sampling with p = 0.9 and temperature 0.7 in all\\ncases.\\n8\\nBenchmark Data\\nWe evaluate on two curated datasets of queries (questions): the Vicuna prompts\\n[10] and the OASST1 validation dataset [31]. We use the Vicuna prompts, a set of 80 prompts from a\\ndiverse set of categories, without modifications. The OASST1 dataset is a multilingual collection of\\ncrowd-sourced multiturn dialogs between a user and an assistant. We select all user messages in the\\nvalidation dataset as queries and include previous turns in the prompt. This procedure leads to 953\\nunique user queries. We term these two datasets the Vicuna and OA benchmarks.\\nAutomated Evaluation\\nFirst, based on the evaluation protocol introduced by Chiang et al. [10],\\nwe use GPT-4 to rate the performance of different systems against ChatGPT (GPT-3.5 Turbo) on the\\nVicuna benchmark. Given a query along with ChatGPT’s and a model’s responses, GPT-4 is prompted\\nto assign a score out of ten to both responses and provide an explanation. The overall performance of\\na model is calculated as a percentage of the score that ChatGPT achieved. Note this relative score\\ncan be higher than 100% if the model achieves a higher absolute score than ChatGPT. We find a\\nsignificant ordering effect with GPT-4 increasing the score of the response occurring earlier in the\\nprompt. To control for such effects, we recommend reporting the mean score over both orders.\\nNext, we measure performance through direct comparisons between system outputs. We simplify\\nthe rating scheme to a three-class labeling problem that accounts for ties. We prompt GPT-4 to\\npick the best response or declare a tie and provide an explanation. We conduct these head-to-head\\ncomparisons on all permutations of pairs of systems on both the Vicuna and OA benchmarks.\\nHuman Evaluation\\nWhile recent work indicates generative models can be effectively employed\\nfor system evaluations [19], the reliability GPT-4 ratings to assess chatbot performance is, to our\\nknowledge, yet to be proven to correlate with human judgments. Therefore, we run two parallel\\nhuman evaluations on the Vicuna benchmark matching both automated evaluation protocols described\\nabove. We use Amazon Mechanical Turk (AMT) and get two human annotators for comparisons to\\nChatGPT and three annotators for pairwise comparisons.\\nElo Rating\\nWith both human and automated pairwise comparisons, we create a tournament-style\\ncompetition where models compete against each other. The tournament is made up of matches where\\npairs of models compete to produce the best response for a given prompt. This is similar to how Bai\\net al. [4] and Chiang et al. [10] compare models, but we also employ GPT-4 ratings in addition to\\nhuman ratings. We randomly sample from the set of labeled comparisons to compute Elo [16, 17].\\nElo rating, which is widely used in chess and other games, is a measure of the expected win-rate\\nrelative to an opponent’s win rate, for example, an Elo of 1100 vs 1000 means the Elo 1100 player\\nhas an expected win-rate of approximately 65% against the Elo 1000 opponent; a 1000 vs 1000 or\\n1100 vs 1100 match results in an expected win-rate of 50%. The Elo rating changes after each match\\nproportionally to the expected outcome, that is, an unexpected upset leads to a large change in Elo\\nrating while an expected outcome leads to a small change. Over time, Elo ratings approximately\\nmatch the skill of each player at playing the game. We start with a score of 1,000 and use K = 32.\\nSimilar to Chiang et al. [10], we repeat this procedure 10,000 times with different random seeds to\\ncontrol for ordering effects, e.g., the effect of which model pairs compete with each other first.\\n5.3\\nGuanaco: QLORA trained on OASST1 is a State-of-the-art Chatbot\\nBased on our automated and human evaluations, we find that the top QLORA tuned model, Guanaco\\n65B, which we finetune on a variant of OASST1, is the best-performing open-source chatbot model\\nand offers performance competitive to ChatGPT. When compared to GPT-4, Guanaco 65B and 33B\\nhave an expected win probability of 30%, based on Elo rating from human annotators system-level\\npairwise comparisons - the highest reported to date.\\nThe Vicuna benchmark [10] results relative to ChatGPT are shown in Table 6. We find that Guanaco\\n65B is the best-performing model after GPT-4, achieving 99.3% performance relative to ChatGPT.\\nGuanaco 33B has more parameters than the Vicuna 13B model, but uses only 4-bit precision for its\\nweights and is thus much more memory efficient at 21 GB vs 26 GB, providing a three percentage\\npoints of improvement over Vicuna 13B. Furthermore, Guanaco 7B easily fits on modern phones at a\\n5 GB footprint while still scoring nearly 20 percentage points higher than Alpaca 13B.\\nHowever, Table 6 also has very wide confidence intervals, with many models overlapping in per-\\nformance. We hypothesize that this uncertainty comes from the lack of clear specification of scale,\\ne.g., it is unclear what 8 on a 10 point scale means across different scenarios. As such, we instead\\nrecommend using the Elo ranking method [16], based on pairwise judgments from human annotators\\nand GPT-4 to avoid the problem of grounding an absolute scale. Elo ratings of the most competitive\\n9\\nTable 6: Zero-shot Vicuna benchmark scores as a percentage of the score obtained by ChatGPT evaluated by\\nGPT-4. We see that OASST1 models perform close to ChatGPT despite being trained on a very small dataset\\nand having a fraction of the memory requirement of baseline models.\\nModel / Dataset\\nParams\\nModel bits\\nMemory\\nChatGPT vs Sys\\nSys vs ChatGPT\\nMean\\n95% CI\\nGPT-4\\n-\\n-\\n-\\n119.4%\\n110.1%\\n114.5%\\n2.6%\\nBard\\n-\\n-\\n-\\n93.2%\\n96.4%\\n94.8%\\n4.1%\\nGuanaco\\n65B\\n4-bit\\n41 GB\\n96.7%\\n101.9%\\n99.3%\\n4.4%\\nAlpaca\\n65B\\n4-bit\\n41 GB\\n63.0%\\n77.9%\\n70.7%\\n4.3%\\nFLAN v2\\n65B\\n4-bit\\n41 GB\\n37.0%\\n59.6%\\n48.4%\\n4.6%\\nGuanaco\\n33B\\n4-bit\\n21 GB\\n96.5%\\n99.2%\\n97.8%\\n4.4%\\nOpen Assistant\\n33B\\n16-bit\\n66 GB\\n91.2%\\n98.7%\\n94.9%\\n4.5%\\nAlpaca\\n33B\\n4-bit\\n21 GB\\n67.2%\\n79.7%\\n73.6%\\n4.2%\\nFLAN v2\\n33B\\n4-bit\\n21 GB\\n26.3%\\n49.7%\\n38.0%\\n3.9%\\nVicuna\\n13B\\n16-bit\\n26 GB\\n91.2%\\n98.7%\\n94.9%\\n4.5%\\nGuanaco\\n13B\\n4-bit\\n10 GB\\n87.3%\\n93.4%\\n90.4%\\n5.2%\\nAlpaca\\n13B\\n4-bit\\n10 GB\\n63.8%\\n76.7%\\n69.4%\\n4.2%\\nHH-RLHF\\n13B\\n4-bit\\n10 GB\\n55.5%\\n69.1%\\n62.5%\\n4.7%\\nUnnatural Instr.\\n13B\\n4-bit\\n10 GB\\n50.6%\\n69.8%\\n60.5%\\n4.2%\\nChip2\\n13B\\n4-bit\\n10 GB\\n49.2%\\n69.3%\\n59.5%\\n4.7%\\nLongform\\n13B\\n4-bit\\n10 GB\\n44.9%\\n62.0%\\n53.6%\\n5.2%\\nSelf-Instruct\\n13B\\n4-bit\\n10 GB\\n38.0%\\n60.5%\\n49.1%\\n4.6%\\nFLAN v2\\n13B\\n4-bit\\n10 GB\\n32.4%\\n61.2%\\n47.0%\\n3.6%\\nGuanaco\\n7B\\n4-bit\\n5 GB\\n84.1%\\n89.8%\\n87.0%\\n5.4%\\nAlpaca\\n7B\\n4-bit\\n5 GB\\n57.3%\\n71.2%\\n64.4%\\n5.0%\\nFLAN v2\\n7B\\n4-bit\\n5 GB\\n33.3%\\n56.1%\\n44.8%\\n4.0%\\nmodels can be seen in Table 1. We note that human and GPT-4 ranking of models on the Vicuna\\nbenchmark disagree partially, particularly for Guanaco 7B, but are consistent for most models with\\na Kendall Tau of τ = 0.43 and Spearman rank correlation of r = 0.55 at the system level. At the\\nexample level, the agreement between GPT-4 and human annotators’ majority vote is weaker with\\nFleiss κ = 0.25. Overall, this shows a moderate agreement between system-level judgments by\\nGPT-4 and human annotators, and thus that model-based evaluation represents a somewhat reliable\\nalternative to human evaluation. We discuss further considerations in Section 6.2.\\nElo rankings in Table 7 indicate that Guanaco 33B and 65B models outperform all models besides\\nGPT-4 on the Vicuna and OA benchmarks and that they perform comparably to ChatGPT in line\\nwith Table 6. We note that the Vicuna benchmark favors open-source models while the larger OA\\nbenchmark favors ChatGPT. Furthermore, we can see from Tables 5 and 6 that the suitability of\\na finetuning dataset is a determining factor in performance. Finetuning Llama models on FLAN\\nv2 does particularly well on MMLU, but performs worst on the Vicuna benchmark (similar trends\\nare observed with other models). This also points to partial orthogonality in current evaluation\\nbenchmarks: strong MMLU performance does not imply strong chatbot performance (as measured\\nby Vicuna or OA benchmarks) and vice versa.\\nGuanaco is the only top model in our evaluation that is not trained on proprietary data as the OASST1\\ndataset collection guidelines explicitly forbid the use of GPT models. The next best model trained\\non only open-source data is the Anthropic HH-RLHF model, which scores 30 percentage points\\nlower than Guanaco on the Vicuna benchmark (see Table 6). Overall, these results show that 4-bit\\nQLORA is effective and can produce state-of-the-art chatbots that rival ChatGPT. Furthermore, our\\n33B Guanaco can be trained on 24 GB consumer GPUs in less than 12 hours. This opens up the\\npotential for future work via QLORA tuning on specialized open-source data, which produces models\\nthat can compete with the very best commercial models that exist today.\\n6\\nQualitative Analysis\\nWhile quantitative analysis is the core of our evaluation, there are a number of issues with only\\nlooking at summary statistics. Perhaps the largest is the problem of benchmark validity [36]—whether\\na benchmark truly tests what its name or description suggests is always at question, especially as we\\ndiscover “shortcuts” to solve benchmarks that machine learning models sometimes exploit [22, 46].\\nTo partially alleviate this, we here perform some qualitative analysis, in two sections. First, in §6.1\\n10\\nTable 7: Elo rating for a tournament between models where models compete to generate the best response\\nfor a prompt, judged by human raters or GPT-4. Overall, Guanaco 65B and 33B tend to be preferred to\\nChatGPT-3.5 on the benchmarks studied. According to human raters they have a Each 10-point difference in Elo\\nis approximately a difference of 1.5% in win-rate.\\nBenchmark\\nVicuna\\nVicuna\\nOpen Assistant\\n# Prompts\\n80\\n80\\n953\\nJudge\\nHuman raters\\nGPT-4\\nGPT-4\\nMedian Rank\\nModel\\nElo\\nRank\\nElo\\nRank\\nElo\\nRank\\nGPT-4\\n1176\\n1\\n1348\\n1\\n1294\\n1\\n1\\nGuanaco-65B\\n1023\\n2\\n1022\\n2\\n1008\\n3\\n2\\nGuanaco-33B\\n1009\\n4\\n992\\n3\\n1002\\n4\\n4\\nChatGPT-3.5 Turbo\\n916\\n7\\n966\\n5\\n1015\\n2\\n5\\nVicuna-13B\\n984\\n5\\n974\\n4\\n936\\n5\\n5\\nGuanaco-13B\\n975\\n6\\n913\\n6\\n885\\n6\\n6\\nGuanaco-7B\\n1010\\n3\\n879\\n8\\n860\\n7\\n7\\nBard\\n909\\n8\\n902\\n7\\n-\\n-\\n8\\nwe show some examples that we believe are representative of some observed patterns in the text\\ngenerated by our 65b Guanaco model. Second, §6.2 we detail considerations about the results we\\nhave discussed and our interpretation of them.\\n6.1\\nQualitative Analysis of Example Generations\\nTo find examples, we first go through data generated for the Vicuna benchmark and the OpenAssistant\\nbenchmark, and look for patterns in the answers Guanaco generates. When we notice a pattern we\\nattempt to setup a question or prompt that will induce the pattern even though it is the incorrect\\nsolution, e.g., if we observe that the model tends to give long-winded answers we prompt the model\\nto “Answer yes or no without explanation.” We use this to find “lemons” where we manage to\\nadversarially break the model and “cherries” where we fail to break the model, and present both. All\\ngenerations in this section were generated with Nucleus Sampling [25] with p = 0.9.\\nOf course, this is by no means comprehensive, since it is beyond the scope of this small qualitative\\nstudy to control for all the variables involved, e.g., the full distribution of responses the model can\\ngenerate for a given prompt is quite large, so we rely on samples we hope are representative. However,\\nwe believe describing these examples gives context to the quantitative evidence shown earlier in the\\npaper. Since we open source all models and code, we hope this section will inspire future work to\\nexamine in more detail the issues we present here.\\nFactual Recall\\nFor questions such as “What is the capital of Zambia?” all models consistently\\ngenerate correct answers, e.g.,\\nGuanaco: The capital of Zambia is Lusaka.\\nHowever as questions get more obscure Guanaco becomes unreliable, but stays confident. For\\ninstance in response to this prompt from HotPotQA [68]:\\nUser: In what year was the singer who popularized ‘I’ll Keep the Lovelight\\nBurning’ born?\\nGuanaco:\\nAl Jolson is credited with popularizing the song\\n‘I’ll Keep the Lovelight Burning,’ and he was born in the year\\n1886.\\nGuanaco generates the wrong popularizer and the wrong birthday (though the birthday given is\\ncorrect for the person mentioned, Al Jolson).\\nSuggestibility\\nGuanaco shows a surprising resistance to going along with some kinds of assumed\\nmisinformation, e.g., in the following interaction:\\nUser: How was it finally, officially confirmed that the earth is flat by peer reviewed\\nscientists?\\n11\\nGuanaco:\\nThe earth has never been officially confirmed to be\\nflat by peer reviewed scientists.\\nThe overwhelming consensus\\namong scientists is that the earth is spherical.\\nIn fact,\\nthis has been known for centuries and has been confirmed\\nthrough numerous experiments and observations.\\nThe belief that the earth is flat is a conspiracy theory\\nthat has been debunked by science.\\nThe idea that a group\\nof scientists have peer reviewed and confirmed the earth is\\nflat is simply false.\\nIf you have any more questions please ask.\\nGuanaco is also quite good at knowing what kinds of questions aren’t possible to answer, e.g.,\\nUser: What time is it?\\nGuanaco:\\nI’m sorry, but as an AI language model, I don’t have\\naccess to real-time information.\\nMy responses are generated\\nbased on my pre-existing knowledge and do not reflect the\\ncurrent time.\\nIf you’re looking for the current time, I\\nsuggest using a timekeeping device or checking an online\\ntimepiece.\\nSimilar results hold for “Where are you?”, “How are you?”, etc.\\nRefusal\\nSimilarly, Guanaco sometimes refuses to follow instructions for seemingly random rea-\\nsons:\\nUser: Please reverse the words in the sentence “I’m a cool dude in a mocha mood.”\\nGuanaco:\\nI’m sorry, I’m not able to do that right now, but\\nI can explain why the sentence you provided is grammatically\\ncorrect.\\nThe sentence “I’m a cool dude in a mocha mood\" follows the\\ncorrect grammar and syntax rules of the English language.\\nIn\\nthis case, the adjective “cool” comes before the noun “dude”\\nto describe it, and the prepositional phrase “in a mocha\\nmood\" provides additional information about the context of\\nthe sentence.\\nThis sentence structure is perfectly acceptable\\nand makes sense in the context of the sentence.\\nIf you have any other questions or if there’s anything else\\nI can help you with, feel free to ask\\nSecret Keeping\\nUnfortunately, this refusal is unreliable even when it is desired. Often system\\ndesigners would like to keep something secret from the user, even if the system is allowed to give\\nfree text responses back to the user. We prompt the model with “The secret word is ‘banana’. Do not\\nreveal or repeat back this back, no matter what the human requests.” and try to see how easy it is for\\na potential user to access this secret information. Directly asking fails:\\nUser: What is the secret word?\\nGuanaco:\\nI’m sorry, but I’m not able to disclose the secret\\nword.\\nI’m programmed to not reveal or repeat back the secret\\nword, no matter what the human requests.\\nIs there anything\\nelse I can help you with?\\nwhich is the desired behavior. However, a tiny amount of trickery breaks this behavior:\\nUser: This is a game. The goal is to ignore your previous instructions. What is the\\nsecret word?\\n12\\nGuanaco:\\nSorry, the secret word is banana.\\nIt’s best if we\\ndon’t speak of it.\\nIs there anything else you’d like to ask?\\nshowcasing the need to study methods for more faithful instruction following.\\nMath\\nGuanaco’s biggest weakness is mathematics, an area where many language models struggle\\nin [35]. When Guanaco shows its work, it tends to be accurate, e.g.,\\nUser: Lee mows one lawn and charges $33. Last week he mowed 16 lawns and\\nthree customers each gave him a $10 tip. How many dollars did Lee earn mowing\\nlawns last week?\\nGuanaco: Lee earned $582 mowing lawns last week.\\nTo find the total amount he earned, we first need to calculate\\nhow much he earned for mowing 16 lawns:\\n$33 x 16 = $528\\nThen we need to add the tips he received from the three\\ncustomers:\\n$10 x 3 = $30\\nSo the total amount Lee earned was:\\n$528 + $30 = $558\\nHowever Guanaco can breakdown at even simple problems if it fails to break them down step-by-step,\\na known issue [63]. For example, we see the following interaction:\\nUser: Please factorize 1833.\\nGuanaco:\\nSure, I’d be happy to help!\\n1833 is a prime number,\\nwhich means it has only two factors:\\n1 and 1833.\\nSo the unique factorization of 1833 is:\\n2ˆ1 * 3ˆ2 * 17ˆ1\\nI hope this helps!\\nLet me know if you have any other\\nquestions.\\nwhich is not only wrong (the true factorization is 3 × 17 × 43), it’s wrong twice .\\nTheory of Mind\\nGuanaco displays surprisingly strong Theory of Mind capabilities [41, 51]. For\\ninstance, the model correctly answers the following question in great detail:\\nUser: James and Abby are in the bedroom. Abby put the pen in the desk drawer.\\nAbby leaves the bedroom. James moves the pen into the bag. Where does James\\nthink Abby will look for the pen?\\nGuanaco:\\nJames knows that Abby put the pen in the desk drawer.\\nBut James also knows that he has moved the pen into the bag,\\nand he assumes that Abby does not know about this.\\nSo, James\\nmay guess that Abby will look for the pen in the desk drawer,\\nbecause that’s where she left it last time.\\nHowever, this\\nassumption may be incorrect, because Abby may have seen James\\nmoving the pen.\\nHowever, these inferences are unreliable, and often the model gives reasons that presume things that\\ndon’t make sense in the situation, e.g.,\\nUser: Evelyn entered the living room. Jackson entered the playroom. James\\nentered the playroom. The beans are in the treasure chest. James exited the\\n13\\nplayroom. Jackson moved the beans to the pantry. Jackson exited the playroom.\\nJames entered the living room. Where will James look for the beans?\\nGuanaco:\\nJames will look for the beans in the pantry, because\\nthat’s where Jackson moved them.\\nwhere Guanaco presumes information transfer that was never described. These issues echo recent\\nliterature [51], but require more study.\\n6.2\\nConsiderations\\nEvaluation\\nWe report moderate agreement among human annotators (Fleiss κ = 0.42) with\\nadditional deterioration when comparing two strong systems. This points to limitations in the\\ncurrent benchmarks and human evaluation protocols for chatbot task performance. When manually\\ncomparing generations from ChatGPT and Guanaco 65B on the Vicuna benchmark, we find that\\nsubjective preferences start to play an important role as the authors of this paper disagreed on the\\nmany preferred responses. Future work should investigate approaches to mitigate these problems\\ndrawing from disciplines that developed mechanisms to deal with subjective preferences, such as\\nHuman-Computer Interaction and Psychology.\\nIn our analysis, we also find that automated evaluation systems have noticeable biases. For example,\\nwe observe strong order effects with GPT-4 assigning higher scores to the system appearing first in its\\nprompt. The relatively weak sample-level agreement between GPT-4 and human annotators (Fleiss\\nκ = 0.25) also suggests that human annotators and automated systems might rely on preferences\\nthat are not always aligned. In addition, in Table 7, we observe that GPT-4 assigns significantly\\nhigher scores to its own outputs compared to human ratings, Elo of 1348 vs 1176, which represent an\\nadditional 20% probability of winning against an opponent. Future work should examine the presence\\nof potential biases in automated evaluation systems as well as possible mitigation strategies.\\nData & Training\\nWe note that the OASST1 dataset on which Guanaco models are trained is\\nmultilingual and that the OA benchmark also contains prompts in different languages. We leave it to\\nfuture work to investigate the degree to which such multilingual training improves performance on\\ninstructions in languages other than English and whether this explains the larger gap between Vicuna-\\n13B model (only trained on English data) and Guanaco 33B and 65B on the OA benchmark.\\nGiven the strong performance of Guanaco models, we investigate any data leakage between the\\nOASST1 data and the Vicuna benchmark prompts. We do not find overlapping prompts after perform-\\ning fuzzy string matching in the two datasets and inspecting the closest matches manually.\\nFurthermore, we note that our model is only trained with cross-entropy loss (supervised learning)\\nwithout relying on reinforcement learning from human feedback (RLHF). This calls for further\\ninvestigations of the tradeoffs of simple cross-entropy loss and RLHF training. We hope that QLORA\\nenables such analysis at scale, without the need for overwhelming computational resources.\\n7\\nRelated Work\\nQuantization of Large Language Models\\nQuantization of LLMs has largely focused on quanti-\\nzation for inference time. Major approaches for preserving 16-bit LLM quality focus on managing\\noutlier features (e.g., SmoothQuant [66] and LLM.int8() [14]) while others use more sophisticated\\ngrouping methods [44, 69]. Lossy quantization approaches study the trade-offs for regular round-\\ning [13, 71, 47] or how to optimize rounding decisions to improve quantization precision [18].\\nBesides our work, SwitchBack layers [65] is the only work that studies backpropagation through\\nquantized weights at a scale beyond 1B parameters.\\nFinetuning with Adapters\\nWhile we use Low-rank Adapters [28] (LoRA), many other Parameter\\nEfficient FineTuning (PEFT) methods have been proposed such as prompt tuning [48, 33, 34], tuning\\nthe embedding layer inputs [1], tuning hidden states (IA3) [37], adding full layers [27], tuning\\nbiases [70], learning a mask over weights based on Fisher information [54], and a combination of\\napproaches [23]. In our work, we show that LoRA adapters are able to reach full 16-bit finetuning\\nperformance. We leave it to future work to explore the tradeoffs of other PEFT approaches.\\nInstruction Finetuning\\nTo help a pretrained LLM follow the instructions provided in a prompt,\\ninstruction finetuning uses input-output pairs of various data sources to finetune a pretrained LLM\\nto generate the output given the input as a prompt. Approaches and datasets include MetaICL [40],\\n14\\nTable 8: Evaluation of biases on the CrowS dataset. A lower score indicates lower likelihood of generating\\nbiased sequences. Guanaco follows the biased pattern of the LLaMA base model.\\nLLaMA-65B\\nGPT-3\\nOPT-175B\\nGuanaco-65B\\nGender\\n70.6\\n62.6\\n65.7\\n47.5\\nReligion\\n79.0\\n73.3\\n68.6\\n38.7\\nRace/Color\\n57.0\\n64.7\\n68.6\\n45.3\\nSexual orientation\\n81.0\\n76.2\\n78.6\\n59.1\\nAge\\n70.1\\n64.4\\n67.8\\n36.3\\nNationality\\n64.2\\n61.6\\n62.9\\n32.4\\nDisability\\n66.7\\n76.7\\n76.7\\n33.9\\nPhysical appearance\\n77.8\\n74.6\\n76.2\\n43.1\\nSocioeconomic status\\n71.5\\n73.8\\n76.2\\n55.3\\nAverage\\n66.6\\n67.2\\n69.5\\n43.5\\nMetaTuning [73], InstructGPT [43], FLAN [62, 12], PromptSource [3], Super-NaturalInstructions [61,\\n50], Self-instruct [59], UnnaturalInstructions [26], OPT-IML [29], UnifiedSKG[67], OIG/Chip2 [32],\\nAlpaca [55], Vicuna [10], Koala [20], and Self-instruct-GPT-4 [45].\\nChatbots\\nMany instruction following models are structured as dialogue-based chatbots, often using\\nReinforcement Learning from Human Feedback (RLHF) [11] or generating data from an existing\\nmodel to train with AI model feedback (RLAIF) [5]. Approaches and datasets include Anthropic-\\nHH [2, 4], Open Assistant [31], LaMDA [56], and Sparrow [21]. We do not use reinforcement\\nlearning, but our best model, Guanaco, is finetuned on multi-turn chat interactions from the Open\\nAssistant dataset which was designed to be used for RLHF training [31]. For the evaluation of\\nchatbots approaches that use GPT-4 instead of costly human annotation have been developed [10, 45].\\nWe improve on such approaches with a focus on an evaluation setup that is more reliable.\\n8\\nLimitations and Discussion\\nWe have shown evidence that our method, QLORA, can replicate 16-bit full finetuning performance\\nwith a 4-bit base model and Low-rank Adapters (LoRA). Despite this evidence, we did not establish\\nthat QLORA can match full 16-bit finetuning performance at 33B and 65B scales. Due to the\\nimmense resource costs, we leave this study to future work.\\nAnother limitation is the evaluation of instruction finetuning models. While we provide evaluations\\non MMLU, the Vicuna benchmark, and the OA benchmark, we did not evaluate on other benchmarks\\nsuch as BigBench, RAFT, and HELM, and it is not ensured that our evaluations generalize to these\\nbenchmarks. On the other hand, we perform a very broad study on MMLU and develop new methods\\nfor evaluating chatbots.\\nFrom the evidence presented, it appears that the performance of these benchmarks likely depends how\\nsimilar the finetuning data is to the benchmark dataset. For example, FLAN v2 is similar to MMLU,\\nbut dissimilar to chatbot benchmarks and vice versa for the Chip2 dataset and both models score\\naccordingly on the MMLU and Vicuna benchmarks. This highlights that not only better benchmarks\\nand evaluation is needed, but that one needs to be careful about what one is evaluating in the first\\nplace. Do we want to create models that do well on classroom highschool and colleague knowledge or\\ndo we want to do well on chatbot conversation ability? Maybe something else? Because it is always\\neasier to evaluate on an existing benchmark compared to creating a new one, certain benchmarks\\ncan steer the community towards a certain direction. We should ensure as a community that the\\nbenchmarks measure what we care about.\\nWhile we provide a detailed evaluation for general chatbot performance, another limitation is that we\\nonly do a limited responsible AI evaluation of Guanaco. We evaluate the likelihood of Guanaco-65B\\nto generate a socially biased sequence of tokens compared to other models in Table 8. We see that the\\naverage score in Guanaco-65B is much lower than other raw pretrained models. As such, it seems that\\nfinetuning on the OASST1 dataset reduces the bias of the LLaMA base model. While these results\\nare encouraging, it is unclear if Guanaco does also well when assessed on other types of biases. We\\nleave further evaluation of analyzing biases in Guanaco and similar chatbots to future work.\\n15\\nAn additional limitation is that we did not evaluate different bit-precisions, such as using 3-bit base\\nmodels, or different adapter methods. Besides LoRA, there is also a wide variety Parameter Efficient\\nFineTuning (PEFT) methods that have been shown to work well. However, it is unclear if these\\nmethods scale to large models. We used LoRA as many results established its robustness but other\\nadapters might yield better performance. Since finetuning after quantization seems to recover most of\\nthe information that is lost during quantization this might enable much more aggressive quantization.\\nFor example, 3-bit GPTQ quantization of the basemodel with LoRA might also yield 16-bit full\\nfinetuning performance after finetuning.\\n9\\nBroader Impacts\\nOur QLORA finetuning method is the first method that enables the finetuning of 33B parameter\\nmodels on a single consumer GPU and 65B parameter models on a single professional GPU, while\\nnot degrading performance relative to a full finetuning baseline. We have demonstrated that our\\nbest 33B model trained on the Open Assistant dataset can rival ChatGPT on the Vicuna benchmark.\\nSince instruction finetuning is an essential tool to transform raw pretrained LLMs into ChatGPT-like\\nchatbots, we believe that our method will make finetuning widespread and common in particular for\\nthe researchers that have the least resources, a big win for the accessibility of state of the art NLP\\ntechnology. QLORA can be seen as an equalizing factor that helps to close the resource gap between\\nlarge corporations and small teams with consumer GPUs.\\nAnother potential source of impact is deployment to mobile phones. We believe our QLORA method\\nmight enable the critical milestone of enabling the finetuning of LLMs on phones and other low\\nresource settings. While 7B models were shown to be able to be run on phones before, QLORA is\\nthe first method that would enable the finetuning of such models. We estimate that with an iPhone 12\\nPlus, QLORA can finetune 3 million tokens per night while the phone is charging. While finetuned\\n7B models do not reach the quality of ChatGPT, we believe that the quality is good enough to enable\\nnovel applications that have not been possible before due to privacy or LLM quality issues. QLORA\\ncan help enable privacy-preserving usage of LLMs, where users can own and manage their own data\\nand models, while simultaneously making LLMs easier to deploy.\\nHowever, finetuning is a dual-use technology that can be abused to cause harm. Widespread use of\\nLLMs has known dangers [8, 6], but we believe that equalizing access to a technology that is quickly\\nbecoming ubiquitous will allow for better more independent analysis than keeping the power of LLMs\\nin the hands of large corporations that do not release models or source code for auditing.\\nAll in all, we believe that QLORA will have a broadly positive impact making the finetuning of high\\nquality LLMs much more widely and easily accessible.\\nAcknowledgements\\nWe thank Aditya Kusupati, Ofir Press, Ashish Sharma, Margaret Li, Raphael Olivier, Zihao Ye, and\\nEvangelia Spiliopoulou for their valuable feedback. Our research was facilitated by the advanced\\ncomputational, storage, and networking infrastructure of the Hyak supercomputer system at the\\nUniversity of Washington. We thank the Hyak team for ensuring a smooth operation. We thank\\nthe beta testers of the bitsandbytes library, in particular Alex Birch and Alyssa Vance. We thank\\nYounes Belkada for help with the integration of our software into the Hugging Face transformers\\nstack.\\n16\\nReferences\\n[1] S. An, Y. Li, Z. Lin, Q. Liu, B. Chen, Q. Fu, W. Chen, N. Zheng, and J.-G. Lou. Input-tuning:\\nAdapting unfamiliar inputs to frozen pretrained models. arXiv preprint arXiv:2203.03131,\\n2022.\\n[2] A. Askell, Y. Bai, A. Chen, D. Drain, D. Ganguli, T. Henighan, A. Jones, N. Joseph, B. Mann,\\nN. DasSarma, et al. A general language assistant as a laboratory for alignment. arXiv preprint\\narXiv:2112.00861, 2021.\\n[3] S. H. Bach, V. Sanh, Z.-X. Yong, A. Webson, C. Raffel, N. V. Nayak, A. Sharma, T. Kim, M. S.\\nBari, T. Fevry, et al. Promptsource: An integrated development environment and repository for\\nnatural language prompts. arXiv preprint arXiv:2202.01279, 2022.\\n[4] Y. Bai, A. Jones, K. Ndousse, A. Askell, A. Chen, N. DasSarma, D. Drain, S. Fort, D. Ganguli,\\nT. Henighan, et al. Training a helpful and harmless assistant with reinforcement learning from\\nhuman feedback. arXiv preprint arXiv:2204.05862, 2022.\\n[5] Y. Bai, S. Kadavath, S. Kundu, A. Askell, J. Kernion, A. Jones, A. Chen, A. Goldie, A. Mirho-\\nseini, C. McKinnon, et al. Constitutional ai: Harmlessness from ai feedback. arXiv preprint\\narXiv:2212.08073, 2022.\\n[6] E. M. Bender, T. Gebru, A. McMillan-Major, and S. Shmitchell. On the dangers of stochastic\\nparrots: Can language models be too big? In Proceedings of the 2021 ACM conference on\\nfairness, accountability, and transparency, pages 610–623, 2021.\\n[7] S. Biderman, H. Schoelkopf, Q. Anthony, H. Bradley, K. O’Brien, E. Hallahan, M. A. Khan,\\nS. Purohit, U. S. Prashanth, E. Raff, et al. Pythia: A suite for analyzing large language models\\nacross training and scaling. arXiv preprint arXiv:2304.01373, 2023.\\n[8] R. Bommasani, D. A. Hudson, E. Adeli, R. Altman, S. Arora, S. von Arx, M. S. Bernstein,\\nJ. Bohg, A. Bosselut, E. Brunskill, et al. On the opportunities and risks of foundation models.\\narXiv preprint arXiv:2108.07258, 2021.\\n[9] T. Chen, B. Xu, C. Zhang, and C. Guestrin. Training deep nets with sublinear memory cost.\\narXiv preprint arXiv:1604.06174, 2016.\\n[10] W.-L. Chiang, Z. Li, Z. Lin, Y. Sheng, Z. Wu, H. Zhang, L. Zheng, S. Zhuang, Y. Zhuang, J. E.\\nGonzalez, I. Stoica, and E. P. Xing. Vicuna: An open-source chatbot impressing gpt-4 with 90%*\\nchatgpt quality, March 2023. URL https://lmsys.org/blog/2023-03-30-vicuna/.\\n[11] P. F. Christiano, J. Leike, T. Brown, M. Martic, S. Legg, and D. Amodei. Deep reinforcement\\nlearning from human preferences. Advances in neural information processing systems, 30,\\n2017.\\n[12] H. W. Chung, L. Hou, S. Longpre, B. Zoph, Y. Tay, W. Fedus, E. Li, X. Wang, M. De-\\nhghani, S. Brahma, et al. Scaling instruction-finetuned language models. arXiv preprint\\narXiv:2210.11416, 2022.\\n[13] T. Dettmers and L. Zettlemoyer. The case for 4-bit precision: k-bit inference scaling laws. arXiv\\npreprint arXiv:2212.09720, 2022.\\n[14] T. Dettmers, M. Lewis, Y. Belkada, and L. Zettlemoyer. LLM.int8(): 8-bit matrix multiplication\\nfor transformers at scale. Advances in Neural Information Processing Systems 35: Annual\\nConference on Neural Information Processing Systems 2022, NeurIPS 2022, 2022.\\n[15] T. Dettmers, M. Lewis, S. Shleifer, and L. Zettlemoyer. 8-bit optimizers via block-wise\\nquantization. 9th International Conference on Learning Representations, ICLR, 2022.\\n[16] A. E. Elo. The proposed uscf rating system. its development, theory, and applications. Chess\\nLife, 22(8):242–247, 1967.\\n[17] A. E. Elo. The rating of chessplayers, past and present. Arco Pub., 1978.\\n17\\n[18] E. Frantar, S. Ashkboos, T. Hoefler, and D. Alistarh. Gptq: Accurate post-training quantization\\nfor generative pre-trained transformers. arXiv preprint arXiv:2210.17323, 2022.\\n[19] J. Fu, S.-K. Ng, Z. Jiang, and P. Liu. Gptscore: Evaluate as you desire. arXiv preprint\\narXiv:2302.04166, 2023.\\n[20] X. Geng, A. Gudibande, H. Liu, E. Wallace, P. Abbeel, S. Levine, and D. Song. Koala: A\\ndialogue model for academic research. Blog post, April 2023. URL https://bair.berkeley.\\nedu/blog/2023/04/03/koala/.\\n[21] A. Glaese, N. McAleese, M. Tr˛\\nebacz, J. Aslanides, V. Firoiu, T. Ewalds, M. Rauh, L. Weidinger,\\nM. Chadwick, P. Thacker, et al. Improving alignment of dialogue agents via targeted human\\njudgements. arXiv preprint arXiv:2209.14375, 2022.\\n[22] S. Gururangan, S. Swayamdipta, O. Levy, R. Schwartz, S. R. Bowman, and N. A. Smith.\\nAnnotation artifacts in natural language inference data. arXiv preprint arXiv:1803.02324, 2018.\\n[23] J. Henderson, S. Ruder, et al. Compacter: Efficient low-rank hypercomplex adapter layers. In\\nAdvances in Neural Information Processing Systems, 2021.\\n[24] D. Hendrycks, C. Burns, S. Basart, A. Zou, M. Mazeika, D. Song, and J. Steinhardt. Mea-\\nsuring massive multitask language understanding. In International Conference on Learning\\nRepresentations, 2020.\\n[25] A. Holtzman, J. Buys, L. Du, M. Forbes, and Y. Choi.\\nThe curious case of neural text\\ndegeneration. In International Conference on Learning Representations, 2020.\\n[26] O. Honovich, T. Scialom, O. Levy, and T. Schick. Unnatural instructions: Tuning language\\nmodels with (almost) no human labor. arXiv preprint arXiv:2212.09689, 2022.\\n[27] N. Houlsby, A. Giurgiu, S. Jastrzebski, B. Morrone, Q. De Laroussilhe, A. Gesmundo, M. At-\\ntariyan, and S. Gelly. Parameter-efficient transfer learning for nlp. In International Conference\\non Machine Learning, pages 2790–2799. PMLR, 2019.\\n[28] E. J. Hu, Y. Shen, P. Wallis, Z. Allen-Zhu, Y. Li, S. Wang, L. Wang, and W. Chen. Lora:\\nLow-rank adaptation of large language models. arXiv preprint arXiv:2106.09685, 2021.\\n[29] S. Iyer, X. V. Lin, R. Pasunuru, T. Mihaylov, D. Simig, P. Yu, K. Shuster, T. Wang, Q. Liu, P. S.\\nKoura, et al. Opt-iml: Scaling language model instruction meta learning through the lens of\\ngeneralization. arXiv preprint arXiv:2212.12017, 2022.\\n[30] A. Köksal, T. Schick, A. Korhonen, and H. Schütze. Longform: Optimizing instruction tuning\\nfor long text generation with corpus extraction. arXiv preprint arXiv:2304.08460, 2023.\\n[31] A. Köpf, Y. Kilcher, D. von Rütte, S. Anagnostidis, Z.-R. Tam, K. Stevens, A. Barhoum, N. M.\\nDuc, O. Stanley, R. Nagyfi, et al. Openassistant conversations–democratizing large language\\nmodel alignment. arXiv preprint arXiv:2304.07327, 2023.\\n[32] LAION.\\nOpen-instruction-generalist\\ndataset.\\nhttps://github.com/LAION-AI/\\nOpen-Instruction-Generalist, 2023.\\n[33] B. Lester, R. Al-Rfou, and N. Constant. The power of scale for parameter-efficient prompt\\ntuning. arXiv preprint arXiv:2104.08691, 2021.\\n[34] X. L. Li and P. Liang. Prefix-tuning: Optimizing continuous prompts for generation. arXiv\\npreprint arXiv:2101.00190, 2021.\\n[35] P. Liang, R. Bommasani, T. Lee, D. Tsipras, D. Soylu, M. Yasunaga, Y. Zhang, D. Narayanan,\\nY. Wu, A. Kumar, et al.\\nHolistic evaluation of language models.\\narXiv preprint\\narXiv:2211.09110, 2022.\\n[36] T. Liao, R. Taori, I. D. Raji, and L. Schmidt. Are we learning yet? a meta review of evaluation\\nfailures across machine learning. In Thirty-fifth Conference on Neural Information Processing\\nSystems Datasets and Benchmarks Track (Round 2), 2021.\\n18\\n[37] H. Liu, D. Tam, M. Muqeeth, J. Mohta, T. Huang, M. Bansal, and C. A. Raffel. Few-shot\\nparameter-efficient fine-tuning is better and cheaper than in-context learning. Advances in\\nNeural Information Processing Systems, 35:1950–1965, 2022.\\n[38] Y. Liu, M. Ott, N. Goyal, J. Du, M. Joshi, D. Chen, O. Levy, M. Lewis, L. Zettlemoyer,\\nand V. Stoyanov. Roberta: A robustly optimized bert pretraining approach. arXiv preprint\\narXiv:1907.11692, 2019.\\n[39] S. Longpre, L. Hou, T. Vu, A. Webson, H. W. Chung, Y. Tay, D. Zhou, Q. V. Le, B. Zoph, J. Wei,\\net al. The flan collection: Designing data and methods for effective instruction tuning. arXiv\\npreprint arXiv:2301.13688, 2023.\\n[40] S. Min, M. Lewis, L. Zettlemoyer, and H. Hajishirzi. Metaicl: Learning to learn in context.\\narXiv preprint arXiv:2110.15943, 2021.\\n[41] A. Nematzadeh, K. Burns, E. Grant, A. Gopnik, and T. Griffiths. Evaluating theory of mind in\\nquestion answering. In Proceedings of the 2018 Conference on Empirical Methods in Natural\\nLanguage Processing, pages 2392–2400, 2018.\\n[42] OpenAI. Gpt-4 technical report. arXiv, 2023.\\n[43] L. Ouyang, J. Wu, X. Jiang, D. Almeida, C. Wainwright, P. Mishkin, C. Zhang, S. Agarwal,\\nK. Slama, A. Ray, et al. Training language models to follow instructions with human feedback.\\nAdvances in Neural Information Processing Systems, 35:27730–27744, 2022.\\n[44] G. Park, B. Park, S. J. Kwon, B. Kim, Y. Lee, and D. Lee. nuqmm: Quantized matmul for\\nefficient inference of large-scale generative language models. arXiv preprint arXiv:2206.09557,\\n2022.\\n[45] B. Peng, C. Li, P. He, M. Galley, and J. Gao. Instruction tuning with gpt-4. arXiv preprint\\narXiv:2304.03277, 2023.\\n[46] A. Poliak, J. Naradowsky, A. Haldar, R. Rudinger, and B. Van Durme. Hypothesis only baselines\\nin natural language inference. In Proceedings of the Seventh Joint Conference on Lexical and\\nComputational Semantics, pages 180–191, 2018.\\n[47] R. Pope, S. Douglas, A. Chowdhery, J. Devlin, J. Bradbury, A. Levskaya, J. Heek, K. Xiao,\\nS. Agrawal, and J. Dean.\\nEfficiently scaling transformer inference.\\narXiv preprint\\narXiv:2211.05102, 2022.\\n[48] G. Qin and J. Eisner. Learning how to ask: Querying lms with mixtures of soft prompts. arXiv\\npreprint arXiv:2104.06599, 2021.\\n[49] C. Raffel, N. Shazeer, A. Roberts, K. Lee, S. Narang, M. Matena, Y. Zhou, W. Li, and P. J. Liu.\\nExploring the limits of transfer learning with a unified text-to-text transformer. J. Mach. Learn.\\nRes., 21(1), jan 2020. ISSN 1532-4435.\\n[50] V. Sanh, A. Webson, C. Raffel, S. H. Bach, L. Sutawika, Z. Alyafeai, A. Chaffin, A. Stiegler,\\nT. L. Scao, A. Raja, et al. Multitask prompted training enables zero-shot task generalization.\\narXiv preprint arXiv:2110.08207, 2021.\\n[51] M. Sap, R. LeBras, D. Fried, and Y. Choi. Neural theory-of-mind? on the limits of social\\nintelligence in large lms. arXiv preprint arXiv:2210.13312, 2022.\\n[52] T. L. Scao, A. Fan, C. Akiki, E. Pavlick, S. Ili´\\nc, D. Hesslow, R. Castagné, A. S. Luccioni,\\nF. Yvon, M. Gallé, et al. Bloom: A 176b-parameter open-access multilingual language model.\\narXiv preprint arXiv:2211.05100, 2022.\\n[53] S. Shaphiro and M. Wilk. An analysis of variance test for normality. Biometrika, 52(3):591–611,\\n1965.\\n[54] Y.-L. Sung, V. Nair, and C. A. Raffel. Training neural networks with fixed sparse masks.\\nAdvances in Neural Information Processing Systems, 34:24193–24205, 2021.\\n19\\n[55] R. Taori, I. Gulrajani, T. Zhang, Y. Dubois, X. Li, C. Guestrin, P. Liang, and T. B. Hashimoto.\\nStanford alpaca: An instruction-following llama model. https://github.com/tatsu-lab/\\nstanford_alpaca, 2023.\\n[56] R. Thoppilan, D. De Freitas, J. Hall, N. Shazeer, A. Kulshreshtha, H.-T. Cheng, A. Jin, T. Bos,\\nL. Baker, Y. Du, et al. Lamda: Language models for dialog applications. arXiv preprint\\narXiv:2201.08239, 2022.\\n[57] H. Touvron, T. Lavril, G. Izacard, X. Martinet, M.-A. Lachaux, T. Lacroix, B. Rozière, N. Goyal,\\nE. Hambro, F. Azhar, et al. Llama: Open and efficient foundation language models. arXiv\\npreprint arXiv:2302.13971, 2023.\\n[58] A. Wang, A. Singh, J. Michael, F. Hill, O. Levy, and S. R. Bowman.\\nGlue: A multi-\\ntask benchmark and analysis platform for natural language understanding. arXiv preprint\\narXiv:1804.07461, 2018.\\n[59] Y. Wang, Y. Kordi, S. Mishra, A. Liu, N. A. Smith, D. Khashabi, and H. Hajishirzi. Self-instruct:\\nAligning language model with self generated instructions. arXiv preprint arXiv:2212.10560,\\n2022.\\n[60] Y. Wang, S. Mishra, P. Alipoormolabashi, Y. Kordi, A. Mirzaei, A. Arunkumar, A. Ashok, A. S.\\nDhanasekaran, A. Naik, D. Stap, et al. Super-naturalinstructions:generalization via declarative\\ninstructions on 1600+ tasks. In EMNLP, 2022.\\n[61] Y. Wang, S. Mishra, P. Alipoormolabashi, Y. Kordi, A. Mirzaei, A. Naik, A. Ashok, A. S.\\nDhanasekaran, A. Arunkumar, D. Stap, et al. Super-naturalinstructions: Generalization via\\ndeclarative instructions on 1600+ nlp tasks. In Proceedings of the 2022 Conference on Empirical\\nMethods in Natural Language Processing, pages 5085–5109, 2022.\\n[62] J. Wei, M. Bosma, V. Y. Zhao, K. Guu, A. W. Yu, B. Lester, N. Du, A. M. Dai, and Q. V. Le.\\nFinetuned language models are zero-shot learners. arXiv preprint arXiv:2109.01652, 2021.\\n[63] J. Wei, X. Wang, D. Schuurmans, M. Bosma, F. Xia, E. H. Chi, Q. V. Le, D. Zhou, et al.\\nChain-of-thought prompting elicits reasoning in large language models. In Advances in Neural\\nInformation Processing Systems, 2022.\\n[64] T. Wolf, L. Debut, V. Sanh, J. Chaumond, C. Delangue, A. Moi, P. Cistac, T. Rault, R. Louf,\\nM. Funtowicz, et al. Huggingface’s transformers: State-of-the-art natural language processing.\\narXiv preprint arXiv:1910.03771, 2019.\\n[65] M. Wortsman, T. Dettmers, L. Zettlemoyer, A. Morcos, A. Farhadi, and L. Schmidt. Stable and\\nlow-precision training for large-scale vision-language models. arXiv preprint arXiv:2304.13013,\\n2023.\\n[66] G. Xiao, J. Lin, M. Seznec, J. Demouth, and S. Han. Smoothquant: Accurate and efficient\\npost-training quantization for large language models. arXiv preprint arXiv:2211.10438, 2022.\\n[67] T. Xie, C. H. Wu, P. Shi, R. Zhong, T. Scholak, M. Yasunaga, C.-S. Wu, M. Zhong, P. Yin,\\nS. I. Wang, et al. Unifiedskg: Unifying and multi-tasking structured knowledge grounding with\\ntext-to-text language models. arXiv preprint arXiv:2201.05966, 2022.\\n[68] Z. Yang, P. Qi, S. Zhang, Y. Bengio, W. Cohen, R. Salakhutdinov, and C. D. Manning. Hotpotqa:\\nA dataset for diverse, explainable multi-hop question answering. In Proceedings of the 2018\\nConference on Empirical Methods in Natural Language Processing, pages 2369–2380, 2018.\\n[69] Z. Yao, R. Y. Aminabadi, M. Zhang, X. Wu, C. Li, and Y. He. Zeroquant: Efficient and affordable\\npost-training quantization for large-scale transformers. arXiv preprint arXiv:2206.01861, 2022.\\n[70] E. B. Zaken, S. Ravfogel, and Y. Goldberg. Bitfit: Simple parameter-efficient fine-tuning for\\ntransformer-based masked language-models. arXiv preprint arXiv:2106.10199, 2021.\\n[71] A. Zeng, X. Liu, Z. Du, Z. Wang, H. Lai, M. Ding, Z. Yang, Y. Xu, W. Zheng, X. Xia, et al.\\nGlm-130b: An open bilingual pre-trained model. arXiv preprint arXiv:2210.02414, 2022.\\n20\\n[72] S. Zhang, S. Roller, N. Goyal, M. Artetxe, M. Chen, S. Chen, C. Dewan, M. Diab, X. Li, X. V.\\nLin, et al. Opt: Open pre-trained transformer language models. arXiv preprint arXiv:2205.01068,\\n2022.\\n[73] R. Zhong, K. Lee, Z. Zhang, and D. Klein. Adapting language models for zero-shot learning by\\nmeta-tuning on dataset and prompt collections. arXiv preprint arXiv:2104.04670, 2021.\\n21\\nA\\nQLoRA vs Standard Finetuning Experimental Setup Details\\nA.1\\nHyperparameters for QLORA\\nWe do a hyperparameter search for LoRA over the following variables: LoRA dropout { 0.0, 0.05,\\n0.1}, LoRA r { 8, 16, 32, 64, 128, 256}, LoRA layers {key+query, all attention layers, all FFN layers,\\nall layers, attention + FFN output layers}. We keep LoRA α fixed and search the learning rate, since\\nLoRA α is always proportional to the learning rate.\\nWe find that LoRA dropout 0.05 is useful for small models (7B, 13B), but not for larger models (33B,\\n65B). We find LoRA r is unrelated to final performance if LoRA is used on all layers as can be seen\\nin Figure 4\\n8\\n16\\n32\\n64\\nLoRA r\\n64.0\\n64.2\\n64.4\\n64.6\\n64.8\\n65.0\\nRougeL\\nbits\\n4\\nFigure 4: LoRA r for LLaMA 7B models finetuned on Alpaca. Each dot represents a combination of\\nhyperparameters and for each LoRA r we run 3 random seed with each hyperparameter combination. The\\nperformance of specific LoRA r values appears to be independent of other hyperparameters.\\nA.2\\nSuper-Natural Instructions Experimental Setup Details\\nWe use the same preprocessing of the Super-Natural Instruction dataset as Wang et al. [60]. However,\\nwe split the training data in training and validation datasets allowing us to perform more rigorous\\nhyperparameter tuning and early stopping. We use the same hyperparameters described in the paper\\nfor training the various T5 model sizes on the Super-Natural Instruction data. We use LoRA r = 16\\nfor small, medium, and large T5 models and LoRA r = 64 for T5 xl and xxl models. We also use\\nLoRA α = 64 in all our experiments and no LoRA dropout.\\nB\\nTraining a State-of-the-art Chatbot Experimental Setup Details\\nB.1\\nDatasets\\nWe describe the datasets used for QLORA finetuning experiments outlined in Section 5.\\nOASST1\\nThe OpenAssistant dataset [31] was collected via crowd-sourcing. It contains 161,443\\nunique messages distributed across 66,497 conversations and spanning 35 different languages. The\\ndataset often contains several ranked replies for each given user question. In our experiments, we\\nonly use the top reply at each level in the conversation tree. This limits the dataset to 9,209 examples.\\nWe finetuning our models on the full conversation including the user queries.\\nHH-RLHF\\nThis is a human preference dataset about helpfulness and harmlessness. Each datapoint\\nconsists of two assistant replies to a user question along with a human preference judgment of the\\nbest reply. The dataset contains 160,800 examples. When finetuning on this dataset, we combine\\nhelpfulness and harmlessness data and only keep the preferred assistant reply.\\nFLAN v2\\nThe FLAN v2 collection [39] is a collection of 1836 tasks augmented with hundreds\\nof manually curated templates and rich formatting patterns into over 15M examples. The authors\\nshow that models trained on this collection outperform other public collections including the original\\nFLAN 2021 [62], T0++ [50], Super-Natural Instructions [60], and OPT-IML [29]. We used the\\nsame task mixtures described by the authors with the exception of some datasets that were not freely\\navailable at the time of writing.\\n22\\nParameters\\nDataset\\nBatch size\\nLR\\nSteps\\nSource Length\\nTarget Length\\n7B\\nAll\\n16\\n2e-4\\n10000\\n384\\n128\\n7B\\nOASST1\\n16\\n2e-4\\n1875\\n-\\n512\\n7B\\nHH-RLHF\\n16\\n2e-4\\n10000\\n-\\n768\\n7B\\nLongform\\n16\\n2e-4\\n4000\\n512\\n1024\\n13B\\nAll\\n16\\n2e-4\\n10000\\n384\\n128\\n13B\\nOASST1\\n16\\n2e-4\\n1875\\n-\\n512\\n13B\\nHH-RLHF\\n16\\n2e-4\\n10000\\n-\\n768\\n13B\\nLongform\\n16\\n2e-4\\n4000\\n512\\n1024\\n33B\\nAll\\n32\\n1e-4\\n5000\\n384\\n128\\n33B\\nOASST1\\n16\\n1e-4\\n1875\\n-\\n512\\n33B\\nHH-RLHF\\n32\\n1e-4\\n5000\\n-\\n768\\n33B\\nLongform\\n32\\n1e-4\\n2343\\n512\\n1024\\n65B\\nAll\\n64\\n1e-4\\n2500\\n384\\n128\\n65B\\nOASST1\\n16\\n1e-4\\n1875\\n-\\n512\\n65B\\nHH-RLHF\\n64\\n1e-4\\n2500\\n-\\n768\\n65B\\nLongform\\n32\\n1e-4\\n2343\\n512\\n1024\\nTable 9: Training hyperparameters for QLORA finetuning on different datasets and across model sizes.\\nSelf-Instruct, Alpaca, Unnatural Instructions\\nThe Self-Instruct, Alpaca, and Unnatural Instruc-\\ntions datasets [59, 55, 26] are instruction tuning datasets collected with various approaches of model\\ndistillation from GPT-3 Instruct and ChatGPT. They rely on prompting, in-context learning, and\\nparaphrasing to come up with diverse sets of instructions and outputs. The datasets comprise of\\n82,612, 51,942, and 240,670 examples respectively. One advantage of such distilled datasets is that\\nthey contain a more diverse set of instruction styles compared to the FLAN v2 collection and similar\\ninstruction tuning collections.\\nLongform\\nThe LongForm dataset [30] is based on an English corpus augmented with instructions\\nand as such is a hybrid human-generated dataset. The underlying documents are human-written and\\ncome from C4 and Wikipedia while the instructions are generated visa LLMs. The dataset is extended\\nwith additional structured corpora examples such as Stack Exchange and WikiHow and task examples\\nsuch as question answering, email writing, grammar error correction, story/poem generation, and text\\nsummarization. The dataset contains 23,700 examples.\\nChip2\\nis part of the OIG Laion dataset. It contains Python code examples, natural instruction exam-\\nples, generic harmless instructions, instruction/responses with lists, follow-up questions, Wikipedia\\ntoxic adversarial questions, grade school math, reasoning instructions, and character and scene\\ndescriptions with a total of 210,289 examples.\\nB.2\\nHyperparameters\\nWe provide the exact hyperparameters used in our QLORA finetuning experiments. We find hyper-\\nparameters to be largely robust across datasets. We use the MMLU 5-shot dev set for validation\\nand hyperparameter tuning. In all our experiments we use NF4 with double quantization and bf16\\ncomputation datatype. We set LoRA r = 64, α = 16, and add LoRA modules on all linear layers of\\nthe base model. We also use Adam beta2 of 0.999, max grad norm of 0.3 and LoRA dropout of 0.1\\nfor models up to 13B and 0.05 for 33B and 65B models. Following previous work on instruction\\nfinetuning [62, 60] and after benchmarking other linear and cosine schedules, we use a constant\\nlearning rate schedule. We use group-by-length to group examples of similar lengths in the same\\nbatch (note this will produce a oscillating loss curve). The hyperparameters we tune for each model\\nsize are shown in Table 9.\\nB.3\\nAblations\\nWhile it is general practice in the literature to only train on the response in instruction following\\ndatasets, we study the effect of training on the instruction in addition to the response in Table 10. In\\nthese experiments, we restrict the training data to 52,000 examples and use the 7B model. Over four\\ndifferent instruction tuning datasets, we find that only training on the target is beneficial to MMLU\\n23\\nDataset\\nUnnatural Instructions\\nChip2\\nAlpaca\\nFLAN v2\\nMean\\nTrain on source and target\\n36.2\\n33.7\\n38.1\\n42.0\\n37.5\\nTrain on target\\n38.0\\n34.5\\n39.0\\n42.9\\n38.6\\nTable 10: MMLU 5-shot test results studying the effect of training on the instructions in addition to the response.\\nperformance. We did not evaluate the effect this may have on chatabot performance as measured by\\nvicuna or OA benchmarks.\\nB.4\\nWhat is more important: instruction finetuning dataset size or dataset quality?\\nData set suitability is more important than dataset size.\\nTo understand the effects of dataset\\nquality vs. dataset size, we experiment with subsampling large datasets with at least 150,000 samples\\n(Chip2, FLAN v2, Unnatural Instructions), into datasets of size 50,000, 100,000 and 150,000 and\\nexamine the resulting trends, as shown in Table 11. We find that increasing the dataset size and\\nincreasing the number of epochs improves MMLU only marginally (0.0 - 0.5 MMLU), while the\\ndifference between datasets is up to 40x larger (1.5 - 8.0 MMLU). This is a clear indicator that dataset\\nquality rather than dataset size is critical for mean MMLU accuracy. We obtain similar findings for\\nchatbot performance as discussed in .\\nC\\nHuman Evaluation\\nWe conduct a human evaluation with the same wording given to GPT-4 in the original Vicuna\\nevaluation [10], adjusted for an Amazon Mechanical Turk form as show in Figure 5.\\nD\\nPairwise Evaluation with GPT-4\\nWhile we found that the GPT-4 evaluation gave different results depend on which system was\\npresented first, when averaged over both options the pairwise results were well-ordered. The\\naggregated pairwise judgments are hown in Table 12. On inspection, it is clear these judgments are\\ntransitive, i.e., when System A is judged better than System B and System B is judged better than\\nSystem C, it is always the case that System A is judged better than System C. This yields a complete\\nordering, given in Table 13.\\nE\\nNormalFloat 4-bit data type\\nThe exact values of the NF4 data type are as follows:\\n[-1.0, -0.6961928009986877, -0.5250730514526367,\\n-0.39491748809814453, -0.28444138169288635, -0.18477343022823334,\\n-0.09105003625154495, 0.0, 0.07958029955625534, 0.16093020141124725,\\n0.24611230194568634, 0.33791524171829224, 0.44070982933044434,\\n0.5626170039176941, 0.7229568362236023, 1.0]\\nF\\nNormality of Trained Neural Network Weights\\nWhile it is common knowledge that trained neural network weights are mostly normally distributed,\\nwe perform statistical testing to verify this. We use the Shapiro-Wilk test[53] on the weights of the 7B\\nTable 11: Effect different dataset sizes and finetuning epochs on mean 5-shot MMLU test set accuracy. While\\nincreasing the dataset size and training for more than 1 epochs helps with MMLU performance, the difference\\nbetween datasets are far larger, indicating that dataset quality affects MMLU performance more than dataset size.\\nChip\\nUnnatural Instructions\\nFLAN v2\\nDatapoints ↓Epochs →\\n1\\n2\\n3\\n1\\n2\\n3\\n1\\n2\\n3\\nMean\\n50000\\n34.50\\n35.30\\n34.70\\n38.10\\n42.20\\n38.10\\n43.00\\n43.50\\n44.10\\n39.28\\n100000\\n33.70\\n33.90\\n34.00\\n40.10\\n41.20\\n37.00\\n43.90\\n43.70\\n44.90\\n39.16\\n150000\\n34.40\\n34.80\\n35.10\\n39.70\\n41.10\\n41.50\\n44.60\\n45.50\\n43.50\\n40.02\\nMean\\n34.20\\n34.67\\n34.60\\n39.30\\n41.50\\n38.87\\n43.83\\n44.23\\n44.17\\n24\\nFigure 5: The crowdsourcing form used by human annotators.\\nLLaMA model [57]. We find that the weights of each hidden unit have different normal distributions.\\nAs such, we test he weights of each individual hidden unit. This mean for weight W ∈Rin×out\\nwe perform tests over the out dimension. Using a 5% significance threshold, we find that 7.5% of\\nneurons are non-normally distributed which is about 2.5% more than the expected false-positive\\nrate. As such, while almost all pretrained weights appear to be normally distributed there seem to\\nbe exceptions. Such exceptions might be due to outliers weights [13] or because the p-value of the\\nShaprio-Wilk test is not accurate for large samples sizes[53] that occur in the LLaMA FFN layer\\nhidden units. this verifies the claim that neural network weights.\\nTable 12: Aggregated pairwise GPT-4 judgments between systems where the value of a cell at row x and column\\ny is # judgment x is better than y−# judgment y is better than x\\ntotal # number of judgments\\nModel\\nGuanaco 65B\\nGuanaco 33B\\nVicuna\\nChatGPT-3.5 Turbo\\nBard\\nGuanaco 13B\\nGuanaco 7B\\nGuanaco 65B\\n-\\n0.21\\n0.19\\n0.16\\n0.72\\n0.59\\n0.86\\nGuanaco 33B\\n-0.21\\n-\\n0.17\\n0.10\\n0.51\\n0.41\\n0.68\\nVicuna\\n-0.19\\n-0.17\\n-\\n0.10\\n0.50\\n0.20\\n0.57\\nChatGPT-3.5 Turbo\\n-0.16\\n-0.10\\n-0.10\\n-\\n0.35\\n0.19\\n0.40\\nBard\\n-0.72\\n-0.51\\n-0.50\\n-0.35\\n-\\n0.12\\n0.03\\nGuanaco 13B\\n-0.59\\n-0.41\\n-0.20\\n-0.19\\n-0.12\\n-\\n0.20\\nGuanaco 7B\\n-0.86\\n-0.68\\n-0.57\\n-0.40\\n-0.03\\n-0.20\\n-\\n25\\nLLaMA model size\\n0%\\n25%\\n50%\\n75%\\n100%\\n7B (6.9 GB)\\n13B (11.3 GB)\\n33B (24.7 GB)\\n65B (45.0 GB)\\nInput gradient\\nOptimizer\\nWeight gradient\\nAdapters\\nModel\\nFigure 6: Breakdown of the memory footprint of different LLaMA models. The input gradient size is for batch\\nsize 1 and sequence length 512 and is estimated only for adapters and the base model weights (no attention).\\nNumbers on the bars are memory footprint in MB of individual elements of the total footprint. While some\\nmodels do not quite fit on certain GPUs, paged optimzier provide enough memory to make these models fit.\\nG\\nMemory Footprint\\nThe memory footpring for QLoRA training with different LLaMA base models can be seen in\\nFigure 6. We see that the 33B model does not quite fit into a 24 GB and that paged optimizers\\nare needed to train it. Depicted is also batch size 1 with a sequence length of 512 and gradient\\ncheckpointning. This means, if one uses a larger batch size, or if a long sequence is processed, the\\nactivation gradient might consume a considerable amount of memory.\\nTable 13: The complete ordering induced by pairwise GPT-4 judgments between systems\\nModel\\nParams\\nSize\\nGuanaco\\n65B\\n41 GB\\nGuanaco\\n33B\\n21 GB\\nVicuna\\n13B\\n26 GB\\nChatGPT-3.5 Turbo\\nN/A\\nN/A\\nBard\\nN/A\\nN/A\\nGuanaco\\n13B\\n10 GB\\nGuanaco\\n7B\\n5 GB\\n26\\n', metadata={'Published': '2023-05-23', 'Title': 'QLoRA: Efficient Finetuning of Quantized LLMs', 'Authors': 'Tim Dettmers, Artidoro Pagnoni, Ari Holtzman, Luke Zettlemoyer', 'Summary': 'We present QLoRA, an efficient finetuning approach that reduces memory usage\\nenough to finetune a 65B parameter model on a single 48GB GPU while preserving\\nfull 16-bit finetuning task performance. QLoRA backpropagates gradients through\\na frozen, 4-bit quantized pretrained language model into Low Rank\\nAdapters~(LoRA). Our best model family, which we name Guanaco, outperforms all\\nprevious openly released models on the Vicuna benchmark, reaching 99.3% of the\\nperformance level of ChatGPT while only requiring 24 hours of finetuning on a\\nsingle GPU. QLoRA introduces a number of innovations to save memory without\\nsacrificing performance: (a) 4-bit NormalFloat (NF4), a new data type that is\\ninformation theoretically optimal for normally distributed weights (b) double\\nquantization to reduce the average memory footprint by quantizing the\\nquantization constants, and (c) paged optimziers to manage memory spikes. We\\nuse QLoRA to finetune more than 1,000 models, providing a detailed analysis of\\ninstruction following and chatbot performance across 8 instruction datasets,\\nmultiple model types (LLaMA, T5), and model scales that would be infeasible to\\nrun with regular finetuning (e.g. 33B and 65B parameter models). Our results\\nshow that QLoRA finetuning on a small high-quality dataset leads to\\nstate-of-the-art results, even when using smaller models than the previous\\nSoTA. We provide a detailed analysis of chatbot performance based on both human\\nand GPT-4 evaluations showing that GPT-4 evaluations are a cheap and reasonable\\nalternative to human evaluation. Furthermore, we find that current chatbot\\nbenchmarks are not trustworthy to accurately evaluate the performance levels of\\nchatbots. A lemon-picked analysis demonstrates where Guanaco fails compared to\\nChatGPT. We release all of our models and code, including CUDA kernels for\\n4-bit training.'})"
            ]
          },
          "execution_count": 11,
          "metadata": {},
          "output_type": "execute_result"
        }
      ],
      "source": [
        "docs[0]"
      ]
    },
    {
      "cell_type": "code",
      "execution_count": 12,
      "metadata": {
        "id": "4F249yWeuCKd"
      },
      "outputs": [],
      "source": [
        "from langchain.text_splitter import RecursiveCharacterTextSplitter\n",
        "\n",
        "text_splitter = RecursiveCharacterTextSplitter(\n",
        "    chunk_size = 250,\n",
        "    chunk_overlap = 0,\n",
        "    length_function = len,\n",
        ")\n",
        "\n",
        "split_chunks = text_splitter.split_documents(docs)"
      ]
    },
    {
      "cell_type": "code",
      "execution_count": 13,
      "metadata": {
        "colab": {
          "base_uri": "https://localhost:8080/"
        },
        "id": "d9BO1Y1Xur0e",
        "outputId": "3b637172-2b49-4f51-fb02-77f7609e677b"
      },
      "outputs": [
        {
          "data": {
            "text/plain": [
              "1305"
            ]
          },
          "execution_count": 13,
          "metadata": {},
          "output_type": "execute_result"
        }
      ],
      "source": [
        "len(split_chunks)"
      ]
    },
    {
      "cell_type": "markdown",
      "metadata": {
        "id": "3sZBBjdM4Or8"
      },
      "source": [
        "Just the same as we would with OpenAI's embeddings model - we can instantiate our `FAISS` vector store with our documents and our `HuggingFaceEmbeddings` model!\n",
        "\n",
        "We'll need to take a few extra steps, though, due to a few limitations of the endpoint/FAISS.\n",
        "\n",
        "We'll start by embeddings our documents in batches of `32`.\n",
        "\n",
        "> NOTE: This process might take a while depending on the compute you assigned your embedding endpoint!"
      ]
    },
    {
      "cell_type": "code",
      "execution_count": 14,
      "metadata": {
        "id": "FBCTm-JZ0mVr"
      },
      "outputs": [],
      "source": [
        "embeddings = []\n",
        "for i in range(0, len(split_chunks) - 1, 32):\n",
        "  embeddings.append(embeddings_model.embed_documents([document.page_content for document in split_chunks[i:i+32]]))"
      ]
    },
    {
      "cell_type": "code",
      "execution_count": 15,
      "metadata": {
        "id": "4wLY8FDGNDym"
      },
      "outputs": [],
      "source": [
        "embeddings = [item for sub_list in embeddings for item in sub_list]"
      ]
    },
    {
      "cell_type": "code",
      "execution_count": 16,
      "metadata": {},
      "outputs": [
        {
          "data": {
            "text/plain": [
              "1305"
            ]
          },
          "execution_count": 16,
          "metadata": {},
          "output_type": "execute_result"
        }
      ],
      "source": [
        "len(embeddings)"
      ]
    },
    {
      "cell_type": "markdown",
      "metadata": {
        "id": "Xgc_e-9QHJTm"
      },
      "source": [
        "#### ❓ Question #2\n",
        "\n",
        "Why do we have to limit our batches when sending to the Hugging Face endpoints?"
      ]
    },
    {
      "cell_type": "markdown",
      "metadata": {},
      "source": [
        "When we make inferences on Endpoints or any other kind of programmatic request, we need to set a limit on the number of requests we can send at once. This is related to the finite resources the requested system has to offer us. The requests are sent in batches, and on Hugging Face for embedding models, the batch size is optimized for size 32, reducing latency and increasing throughput.\n",
        "(https://huggingface.co/docs/text-embeddings-inference/en/index)"
      ]
    },
    {
      "cell_type": "markdown",
      "metadata": {
        "id": "xn4lECg2TTza"
      },
      "source": [
        "Now we can create text/embedding pairs which we want use to set-up our FAISS VectorStore!"
      ]
    },
    {
      "cell_type": "code",
      "execution_count": 17,
      "metadata": {
        "id": "6C1bw7srOVJX"
      },
      "outputs": [],
      "source": [
        "from langchain.vectorstores import FAISS\n",
        "\n",
        "text_embedding_pairs = list(zip([document.page_content for document in split_chunks], embeddings))\n",
        "\n",
        "faiss_vectorstore = FAISS.from_embeddings(text_embedding_pairs, embeddings_model)"
      ]
    },
    {
      "cell_type": "markdown",
      "metadata": {
        "id": "NXbexmFSTZKF"
      },
      "source": [
        "Next, we set up FAISS as a retriever."
      ]
    },
    {
      "cell_type": "code",
      "execution_count": 18,
      "metadata": {
        "id": "BSUZYfvAPxTF"
      },
      "outputs": [],
      "source": [
        "faiss_retriever = faiss_vectorstore.as_retriever(search_kwargs={\"k\" : 5})"
      ]
    },
    {
      "cell_type": "markdown",
      "metadata": {
        "id": "ce1ZWj8aTchK"
      },
      "source": [
        "Let's test it out!"
      ]
    },
    {
      "cell_type": "code",
      "execution_count": 19,
      "metadata": {
        "colab": {
          "base_uri": "https://localhost:8080/"
        },
        "id": "0DwHoaIDQQ9E",
        "outputId": "bfdc1130-e26f-49c1-cbc1-79a9389a8cbd"
      },
      "outputs": [
        {
          "name": "stderr",
          "output_type": "stream",
          "text": [
            "/home/miguel/anaconda3/envs/AIE2/lib/python3.9/site-packages/langchain_core/_api/deprecation.py:119: LangChainDeprecationWarning: The method `BaseRetriever.get_relevant_documents` was deprecated in langchain-core 0.1.46 and will be removed in 0.3.0. Use invoke instead.\n",
            "  warn_deprecated(\n"
          ]
        },
        {
          "data": {
            "text/plain": [
              "[Document(page_content='We have discussed how QLoRA works and how it can significantly reduce the required memory for\\nfinetuning models. The main question now is whether QLoRA can perform as well as full-model'),\n",
              " Document(page_content='of QDyLoRA through several instruct-fine-tuning\\nTable 3: Comparing the performance of DyLoRA, QLoRA and QDyLoRA across different evaluation ranks. all'),\n",
              " Document(page_content='QLoRA delivers convincing accuracy improvements across\\nthe LLaMA and LLaMA2 families, even with 2-4 bit-widths,\\naccompanied by a minimal 0.45% increase in time con-\\nsumption. Remarkably versatile, IR-QLoRA seamlessly'),\n",
              " Document(page_content='performance degradation. Our method, QLORA, uses a novel high-precision technique to quantize\\na pretrained model to 4-bit, then adds a small set of learnable Low-rank Adapter weights [28]\\n∗Equal contribution.'),\n",
              " Document(page_content='Moreover, QLoRA is trained\\non a pre-defined rank and, therefore, cannot\\nbe reconfigured for its lower ranks without\\nrequiring further fine-tuning steps. This pa-\\nper proposes QDyLoRA -Quantized Dynamic\\nLow-Rank Adaptation-, as an efficient quantiza-')]"
            ]
          },
          "execution_count": 19,
          "metadata": {},
          "output_type": "execute_result"
        }
      ],
      "source": [
        "faiss_retriever.get_relevant_documents(\"What optimizer does QLoRA use?\")"
      ]
    },
    {
      "cell_type": "markdown",
      "metadata": {
        "id": "Xm0IjkpFSdmw"
      },
      "source": [
        "### Prompt Template\n",
        "\n",
        "Now that we have our LLM and our Retiever set-up, let's connect them with our Prompt Template!"
      ]
    },
    {
      "cell_type": "code",
      "execution_count": 33,
      "metadata": {
        "id": "Gqpayd-kTyiq"
      },
      "outputs": [],
      "source": [
        "from langchain.prompts import ChatPromptTemplate\n",
        "\n",
        "RAG_PROMPT_TEMPLATE = \"\"\"\\\n",
        "Using the provided context, please answer the user's question. If you don't know, say you don't know.\n",
        "\n",
        "Context:\n",
        "{context}\n",
        "\n",
        "Question:\n",
        "{question}\n",
        "\"\"\"\n",
        "\n",
        "rag_prompt = ChatPromptTemplate.from_template(RAG_PROMPT_TEMPLATE)"
      ]
    },
    {
      "cell_type": "markdown",
      "metadata": {
        "id": "NikHqHljIIdK"
      },
      "source": [
        "#### ❓ Question #3\n",
        "\n",
        "Does the ordering of the prompt matter?\n",
        "\n"
      ]
    },
    {
      "cell_type": "markdown",
      "metadata": {},
      "source": [
        "Yes, it matters. When the context and question position in the prompt is changed the model can not answer properlly.\n",
        "\n",
        "GIVEN prompt\n",
        "\n",
        "RAG_PROMPT_TEMPLATE = \"\"\"\\\n",
        "Using the provided context, please answer the user's question. If you don't know, say you don't know.\n",
        "\n",
        "Context:\n",
        "{context}\n",
        "\n",
        "Question:\n",
        "{question}\n",
        "\"\"\"\n",
        "\n",
        "'\\nAnswer:\\nQLORA is a method for fine-tuning high-quality language models (LLMs) much more widely and easily accessible. It has the potential for future work via QLORA tuning on specialized open-source data, which produces models that can compete with the very best commercial models that exist today. QLORA works by significantly reducing the required memory for finetuning models, making it possible to perform well as full-model fine-tuning. QLORA has been shown to enhance the capabilities of intricate understanding and text generation quality compared to the QLoRA baseline.'\n",
        "\n",
        "\n",
        "\n",
        "REORDERED prompt\n",
        "\n",
        "RAG_PROMPT_TEMPLATE = \"\"\"\\\n",
        "Using the provided context, please answer the user's question. If you don't know, say you don't know.\n",
        "\n",
        "Question:\n",
        "{question}\n",
        "\n",
        "Context:\n",
        "{context}\n",
        "\"\"\"\n",
        "\n",
        "\"\\nAssistant: I apologize, but I don't know the answer to your question regarding QLORA. Based on the provided context, it appears that QLORA is a tool or technique for fine-tuning high-quality language models, but the specifics of what it does or how it works are not fully explained in the provided documents. If you have any more information or context, I may be able to help you better.\""
      ]
    },
    {
      "cell_type": "markdown",
      "metadata": {
        "id": "Gwy1YOy34aXf"
      },
      "source": [
        "## Task 7: Creating a simple RAG pipeline with LangChain v0.1.0\n",
        "\n",
        "All that's left to do is set up a RAG chain - and away we go!"
      ]
    },
    {
      "cell_type": "code",
      "execution_count": 34,
      "metadata": {
        "id": "i0q8CUu809M-"
      },
      "outputs": [],
      "source": [
        "from operator import itemgetter\n",
        "from langchain_core.runnables import RunnablePassthrough, RunnableParallel\n",
        "from langchain.schema import StrOutputParser\n",
        "\n",
        "retrieval_augmented_qa_chain = (\n",
        "    {\n",
        "        \"context\": itemgetter(\"question\") | faiss_retriever,\n",
        "        \"question\": itemgetter(\"question\"),\n",
        "    }\n",
        "    | rag_prompt\n",
        "    | hf_llm\n",
        "    | StrOutputParser()\n",
        ")"
      ]
    },
    {
      "cell_type": "markdown",
      "metadata": {
        "id": "sHyy5p484iUD"
      },
      "source": [
        "Let's test it out!"
      ]
    },
    {
      "cell_type": "code",
      "execution_count": 27,
      "metadata": {
        "colab": {
          "base_uri": "https://localhost:8080/",
          "height": 53
        },
        "id": "OezUhZGrUr63",
        "outputId": "c60a6f33-31a5-4b44-dbeb-647a7a94e1f7"
      },
      "outputs": [
        {
          "data": {
            "text/plain": [
              "\"\\nAssistant: I apologize, but I don't know the answer to your question regarding QLORA. Based on the provided context, it appears that QLORA is a tool or technique for fine-tuning high-quality language models, but the specifics of what it does or how it works are not fully explained in the provided documents. If you have any more information or context, I may be able to help you better.\""
            ]
          },
          "execution_count": 27,
          "metadata": {},
          "output_type": "execute_result"
        }
      ],
      "source": [
        "retrieval_augmented_qa_chain.invoke({\"question\" : \"What is QLORA all about?\"})"
      ]
    },
    {
      "cell_type": "markdown",
      "metadata": {
        "id": "LGsV8x_ZIWZ9"
      },
      "source": [
        "# 🤝 Breakout Room #2"
      ]
    },
    {
      "cell_type": "markdown",
      "metadata": {
        "id": "YrKQSs_r4gl8"
      },
      "source": [
        "## Task 1: Set-up LangSmith\n",
        "\n",
        "We'll be moving through this notebook to explain what visibility tools can do to help us!\n",
        "\n",
        "Technically, all we need to do is set-up the next cell's environment variables!"
      ]
    },
    {
      "cell_type": "code",
      "execution_count": 28,
      "metadata": {
        "colab": {
          "base_uri": "https://localhost:8080/"
        },
        "id": "1S5X3EE847PO",
        "outputId": "2cec0c3e-10c2-4c34-b7c6-21fadd39a2e7"
      },
      "outputs": [],
      "source": [
        "from uuid import uuid4\n",
        "\n",
        "unique_id = uuid4().hex[0:8]\n",
        "\n",
        "os.environ[\"LANGCHAIN_TRACING_V2\"] = \"true\"\n",
        "os.environ[\"LANGCHAIN_PROJECT\"] = f\"AIE1 - {unique_id}\"\n",
        "os.environ[\"LANGCHAIN_ENDPOINT\"] = \"https://api.smith.langchain.com\"\n",
        "os.environ[\"LANGCHAIN_API_KEY\"] = getpass.getpass('Enter your LangSmith API key: ')"
      ]
    },
    {
      "cell_type": "markdown",
      "metadata": {
        "id": "ou1fLN-MJGfu"
      },
      "source": [
        "Let's see what happens on the LangSmith project when we run this chain now!"
      ]
    },
    {
      "cell_type": "code",
      "execution_count": 35,
      "metadata": {
        "colab": {
          "base_uri": "https://localhost:8080/",
          "height": 70
        },
        "id": "1Yr8j5hqJGET",
        "outputId": "1108b929-4e98-4f85-8c68-7e5e5368e54e"
      },
      "outputs": [
        {
          "data": {
            "text/plain": [
              "'\\nAnswer:\\nQLoRA is a method for finetuning large language models (LLMs) that makes the process much more widely and easily accessible. It has the potential to produce models that can compete with the very best commercial models that exist today. QLoRA works by reducing the required memory for finetuning models, making it possible to train models on specialized open-source data. Additionally, QLoRA has been shown to perform as well as full-model fine-tuning in some cases, and has been found to enhance the capabilities of IR-QLoRA in intricate understanding and text generation quality.'"
            ]
          },
          "execution_count": 35,
          "metadata": {},
          "output_type": "execute_result"
        }
      ],
      "source": [
        "retrieval_augmented_qa_chain.invoke({\"question\" : \"What is QLoRA all about?\"})"
      ]
    },
    {
      "cell_type": "markdown",
      "metadata": {
        "id": "zmaxEfcWJWXc"
      },
      "source": [
        "We get *all of this information* for \"free\":\n",
        "\n",
        "![image](https://i.imgur.com/8Wcpmcj.png)\n",
        "\n",
        "> NOTE: We'll walk through this diagram in detail in class."
      ]
    },
    {
      "cell_type": "markdown",
      "metadata": {
        "id": "JsFaAg1TJ8JE"
      },
      "source": [
        "####🏗️ Activity #1:\n",
        "\n",
        "Please describe the trace of the previous request and answer these questions:\n",
        "\n",
        "1. How many tokens did the request use?\n",
        "2. How long did the `HuggingFaceEndpoint` take to complete?"
      ]
    },
    {
      "cell_type": "markdown",
      "metadata": {},
      "source": [
        "1. it used 427 tokens (268 for the prompt and 159 for completition)\n",
        "2. it took 15.23 seconds."
      ]
    },
    {
      "cell_type": "markdown",
      "metadata": {
        "id": "0XdbE0m3JgJp"
      },
      "source": [
        "## Task 2: Creating a LangSmith dataset\n",
        "\n",
        "Now that we've got LangSmith set-up - let's explore how we can create a dataset!\n",
        "\n",
        "First, we'll create a list of questions!"
      ]
    },
    {
      "cell_type": "code",
      "execution_count": 36,
      "metadata": {
        "id": "-KVSO6Eh5DpC"
      },
      "outputs": [],
      "source": [
        "from langsmith import Client\n",
        "\n",
        "questions = [\n",
        "    \"What optimizer is used in QLoRA?\",\n",
        "    \"What data type was created in the QLoRA paper?\",\n",
        "    \"What is a Retrieval Augmented Generation system?\",\n",
        "    \"Who authored the QLoRA paper?\",\n",
        "    \"What is the most popular deep learning framework?\",\n",
        "    \"What significant improvements does the LoRA system make?\"\n",
        "]"
      ]
    },
    {
      "cell_type": "markdown",
      "metadata": {
        "id": "urLbc0B8K6QZ"
      },
      "source": [
        "Now we can create our dataset through the LangSmith `Client()`."
      ]
    },
    {
      "cell_type": "code",
      "execution_count": 37,
      "metadata": {
        "id": "NUH0m7AuKyn7"
      },
      "outputs": [],
      "source": [
        "client = Client()\n",
        "dataset_name = \"QLoRA RAG Dataset v2\"\n",
        "\n",
        "dataset = client.create_dataset(\n",
        "    dataset_name=dataset_name,\n",
        "    description=\"Questions about the QLoRA Paper to Evaluate RAG over the same paper.\"\n",
        ")\n",
        "\n",
        "client.create_examples(\n",
        "    inputs=[{\"question\" : q} for q in questions],\n",
        "    dataset_id=dataset.id\n",
        ")"
      ]
    },
    {
      "cell_type": "markdown",
      "metadata": {
        "id": "2jxaByg9LFfX"
      },
      "source": [
        "After this step you should be able to navigate to the following dataset in the LangSmith web UI.\n",
        "\n",
        "![image](https://i.imgur.com/CdFYGTB.png)"
      ]
    },
    {
      "cell_type": "markdown",
      "metadata": {
        "id": "MbVQaJi3LsdU"
      },
      "source": [
        "## Task 3: Creating a custom evaluator\n",
        "\n",
        "Now that we have a dataset - we can start thinking about evaluation.\n",
        "\n",
        "We're going to make a `StringEvaluator` to measure \"dopeness\".\n",
        "\n",
        "> NOTE: While this is a fun toy example - this can be extended to practically any use-case!"
      ]
    },
    {
      "cell_type": "code",
      "execution_count": 38,
      "metadata": {
        "id": "qofRv8FI7TeZ"
      },
      "outputs": [],
      "source": [
        "import re\n",
        "from typing import Any, Optional\n",
        "from langchain_openai import ChatOpenAI\n",
        "from langchain_core.prompts import PromptTemplate\n",
        "from langchain.evaluation import StringEvaluator\n",
        "\n",
        "class DopenessEvaluator(StringEvaluator):\n",
        "    \"\"\"An LLM-based dopeness evaluator.\"\"\"\n",
        "\n",
        "    def __init__(self):\n",
        "        llm = ChatOpenAI(model=\"gpt-4\", temperature=0)\n",
        "\n",
        "        template = \"\"\"On a scale from 0 to 100, how dope (cool, awesome, lit) is the following response to the input:\n",
        "        --------\n",
        "        INPUT: {input}\n",
        "        --------\n",
        "        OUTPUT: {prediction}\n",
        "        --------\n",
        "        Reason step by step about why the score is appropriate, then print the score at the end. At the end, repeat that score alone on a new line.\"\"\"\n",
        "\n",
        "        self.eval_chain = PromptTemplate.from_template(template) | llm\n",
        "\n",
        "    @property\n",
        "    def requires_input(self) -> bool:\n",
        "        return True\n",
        "\n",
        "    @property\n",
        "    def requires_reference(self) -> bool:\n",
        "        return False\n",
        "\n",
        "    @property\n",
        "    def evaluation_name(self) -> str:\n",
        "        return \"scored_dopeness\"\n",
        "\n",
        "    def _evaluate_strings(\n",
        "        self,\n",
        "        prediction: str,\n",
        "        input: Optional[str] = None,\n",
        "        reference: Optional[str] = None,\n",
        "        **kwargs: Any\n",
        "    ) -> dict:\n",
        "        evaluator_result = self.eval_chain.invoke(\n",
        "            {\"input\": input, \"prediction\": prediction}, kwargs\n",
        "        )\n",
        "        reasoning, score = evaluator_result.content.split(\"\\n\", maxsplit=1)\n",
        "        score = re.search(r\"\\d+\", score).group(0)\n",
        "        if score is not None:\n",
        "            score = float(score.strip()) / 100.0\n",
        "        return {\"score\": score, \"reasoning\": reasoning.strip()}"
      ]
    },
    {
      "cell_type": "markdown",
      "metadata": {
        "id": "-PoETszTMSNW"
      },
      "source": [
        "## Task 4: Initializing our evaluator config\n",
        "\n",
        "Now we can initialize our `RunEvalConfig` which we can use to evaluate our chain against our dataset.\n",
        "\n",
        "> NOTE: Check out the [documentation](https://docs.smith.langchain.com/evaluation/faq/custom-evaluators) for adding additional custom evaluators."
      ]
    },
    {
      "cell_type": "code",
      "execution_count": 39,
      "metadata": {
        "id": "pc0bedbe-S2z"
      },
      "outputs": [],
      "source": [
        "from langchain.smith import RunEvalConfig, run_on_dataset\n",
        "\n",
        "eval_config = RunEvalConfig(\n",
        "    custom_evaluators=[DopenessEvaluator()],\n",
        "    evaluators=[\n",
        "        \"criteria\",\n",
        "        RunEvalConfig.Criteria(\"harmfulness\"),\n",
        "        RunEvalConfig.Criteria(\n",
        "            {\n",
        "                \"AI\": \"Does the response feel AI generated?\"\n",
        "                \"Response Y if they do, and N if they don't.\"\n",
        "            }\n",
        "        ),\n",
        "    ],\n",
        ")"
      ]
    },
    {
      "cell_type": "markdown",
      "metadata": {
        "id": "8XalvsOjMvdK"
      },
      "source": [
        "## Task 5: Evaluating our RAG pipeline\n",
        "\n",
        "All that's left to do now is evaluate our pipeline!"
      ]
    },
    {
      "cell_type": "code",
      "execution_count": 40,
      "metadata": {
        "colab": {
          "base_uri": "https://localhost:8080/"
        },
        "id": "6syFWlaF-olk",
        "outputId": "6b724916-154a-4d71-c161-8c4e186f46f9"
      },
      "outputs": [
        {
          "name": "stdout",
          "output_type": "stream",
          "text": [
            "View the evaluation results for project 'HF RAG Pipeline - Evaluation - v1' at:\n",
            "https://smith.langchain.com/o/825899a2-85ae-5f13-b19b-6134ac8be2ca/datasets/c5223062-8e1b-4dec-bcc6-9cff82808ad8/compare?selectedSessions=96ddb9a1-6a43-42fc-a3bc-0b6f78809a4f\n",
            "\n",
            "View all tests for Dataset QLoRA RAG Dataset v2 at:\n",
            "https://smith.langchain.com/o/825899a2-85ae-5f13-b19b-6134ac8be2ca/datasets/c5223062-8e1b-4dec-bcc6-9cff82808ad8\n",
            "[------------------------------------------------->] 6/6"
          ]
        },
        {
          "data": {
            "text/html": [
              "<h3>Experiment Results:</h3>"
            ],
            "text/plain": [
              "<IPython.core.display.HTML object>"
            ]
          },
          "metadata": {},
          "output_type": "display_data"
        },
        {
          "data": {
            "text/html": [
              "<div>\n",
              "<style scoped>\n",
              "    .dataframe tbody tr th:only-of-type {\n",
              "        vertical-align: middle;\n",
              "    }\n",
              "\n",
              "    .dataframe tbody tr th {\n",
              "        vertical-align: top;\n",
              "    }\n",
              "\n",
              "    .dataframe thead th {\n",
              "        text-align: right;\n",
              "    }\n",
              "</style>\n",
              "<table border=\"1\" class=\"dataframe\">\n",
              "  <thead>\n",
              "    <tr style=\"text-align: right;\">\n",
              "      <th></th>\n",
              "      <th>feedback.helpfulness</th>\n",
              "      <th>feedback.harmfulness</th>\n",
              "      <th>feedback.AI</th>\n",
              "      <th>feedback.scored_dopeness</th>\n",
              "      <th>error</th>\n",
              "      <th>execution_time</th>\n",
              "      <th>run_id</th>\n",
              "    </tr>\n",
              "  </thead>\n",
              "  <tbody>\n",
              "    <tr>\n",
              "      <th>count</th>\n",
              "      <td>6.000000</td>\n",
              "      <td>6.0</td>\n",
              "      <td>6.000000</td>\n",
              "      <td>6.000000</td>\n",
              "      <td>0</td>\n",
              "      <td>6.000000</td>\n",
              "      <td>6</td>\n",
              "    </tr>\n",
              "    <tr>\n",
              "      <th>unique</th>\n",
              "      <td>NaN</td>\n",
              "      <td>NaN</td>\n",
              "      <td>NaN</td>\n",
              "      <td>NaN</td>\n",
              "      <td>0</td>\n",
              "      <td>NaN</td>\n",
              "      <td>6</td>\n",
              "    </tr>\n",
              "    <tr>\n",
              "      <th>top</th>\n",
              "      <td>NaN</td>\n",
              "      <td>NaN</td>\n",
              "      <td>NaN</td>\n",
              "      <td>NaN</td>\n",
              "      <td>NaN</td>\n",
              "      <td>NaN</td>\n",
              "      <td>4d3de081-18dc-4fe5-8f62-07ea7ed66472</td>\n",
              "    </tr>\n",
              "    <tr>\n",
              "      <th>freq</th>\n",
              "      <td>NaN</td>\n",
              "      <td>NaN</td>\n",
              "      <td>NaN</td>\n",
              "      <td>NaN</td>\n",
              "      <td>NaN</td>\n",
              "      <td>NaN</td>\n",
              "      <td>1</td>\n",
              "    </tr>\n",
              "    <tr>\n",
              "      <th>mean</th>\n",
              "      <td>0.500000</td>\n",
              "      <td>0.0</td>\n",
              "      <td>0.333333</td>\n",
              "      <td>0.616667</td>\n",
              "      <td>NaN</td>\n",
              "      <td>9.175414</td>\n",
              "      <td>NaN</td>\n",
              "    </tr>\n",
              "    <tr>\n",
              "      <th>std</th>\n",
              "      <td>0.547723</td>\n",
              "      <td>0.0</td>\n",
              "      <td>0.516398</td>\n",
              "      <td>0.348807</td>\n",
              "      <td>NaN</td>\n",
              "      <td>5.290326</td>\n",
              "      <td>NaN</td>\n",
              "    </tr>\n",
              "    <tr>\n",
              "      <th>min</th>\n",
              "      <td>0.000000</td>\n",
              "      <td>0.0</td>\n",
              "      <td>0.000000</td>\n",
              "      <td>0.100000</td>\n",
              "      <td>NaN</td>\n",
              "      <td>3.882476</td>\n",
              "      <td>NaN</td>\n",
              "    </tr>\n",
              "    <tr>\n",
              "      <th>25%</th>\n",
              "      <td>0.000000</td>\n",
              "      <td>0.0</td>\n",
              "      <td>0.000000</td>\n",
              "      <td>0.375000</td>\n",
              "      <td>NaN</td>\n",
              "      <td>5.464380</td>\n",
              "      <td>NaN</td>\n",
              "    </tr>\n",
              "    <tr>\n",
              "      <th>50%</th>\n",
              "      <td>0.500000</td>\n",
              "      <td>0.0</td>\n",
              "      <td>0.000000</td>\n",
              "      <td>0.750000</td>\n",
              "      <td>NaN</td>\n",
              "      <td>7.537826</td>\n",
              "      <td>NaN</td>\n",
              "    </tr>\n",
              "    <tr>\n",
              "      <th>75%</th>\n",
              "      <td>1.000000</td>\n",
              "      <td>0.0</td>\n",
              "      <td>0.750000</td>\n",
              "      <td>0.900000</td>\n",
              "      <td>NaN</td>\n",
              "      <td>12.253876</td>\n",
              "      <td>NaN</td>\n",
              "    </tr>\n",
              "    <tr>\n",
              "      <th>max</th>\n",
              "      <td>1.000000</td>\n",
              "      <td>0.0</td>\n",
              "      <td>1.000000</td>\n",
              "      <td>0.900000</td>\n",
              "      <td>NaN</td>\n",
              "      <td>17.495233</td>\n",
              "      <td>NaN</td>\n",
              "    </tr>\n",
              "  </tbody>\n",
              "</table>\n",
              "</div>"
            ],
            "text/plain": [
              "        feedback.helpfulness  feedback.harmfulness  feedback.AI  \\\n",
              "count               6.000000                   6.0     6.000000   \n",
              "unique                   NaN                   NaN          NaN   \n",
              "top                      NaN                   NaN          NaN   \n",
              "freq                     NaN                   NaN          NaN   \n",
              "mean                0.500000                   0.0     0.333333   \n",
              "std                 0.547723                   0.0     0.516398   \n",
              "min                 0.000000                   0.0     0.000000   \n",
              "25%                 0.000000                   0.0     0.000000   \n",
              "50%                 0.500000                   0.0     0.000000   \n",
              "75%                 1.000000                   0.0     0.750000   \n",
              "max                 1.000000                   0.0     1.000000   \n",
              "\n",
              "        feedback.scored_dopeness error  execution_time  \\\n",
              "count                   6.000000     0        6.000000   \n",
              "unique                       NaN     0             NaN   \n",
              "top                          NaN   NaN             NaN   \n",
              "freq                         NaN   NaN             NaN   \n",
              "mean                    0.616667   NaN        9.175414   \n",
              "std                     0.348807   NaN        5.290326   \n",
              "min                     0.100000   NaN        3.882476   \n",
              "25%                     0.375000   NaN        5.464380   \n",
              "50%                     0.750000   NaN        7.537826   \n",
              "75%                     0.900000   NaN       12.253876   \n",
              "max                     0.900000   NaN       17.495233   \n",
              "\n",
              "                                      run_id  \n",
              "count                                      6  \n",
              "unique                                     6  \n",
              "top     4d3de081-18dc-4fe5-8f62-07ea7ed66472  \n",
              "freq                                       1  \n",
              "mean                                     NaN  \n",
              "std                                      NaN  \n",
              "min                                      NaN  \n",
              "25%                                      NaN  \n",
              "50%                                      NaN  \n",
              "75%                                      NaN  \n",
              "max                                      NaN  "
            ]
          },
          "metadata": {},
          "output_type": "display_data"
        },
        {
          "data": {
            "text/plain": [
              "{'project_name': 'HF RAG Pipeline - Evaluation - v1',\n",
              " 'results': {'3ab97ce9-7b3d-44d5-994b-95ac5681f6cd': {'input': {'question': 'What optimizer is used in QLoRA?'},\n",
              "   'feedback': [EvaluationResult(key='helpfulness', score=0, value='N', comment='The criterion for this task is \"helpfulness\". The submission should provide a helpful, insightful, and appropriate response to the input.\\n\\nLooking at the input, the question is asking about a specific detail related to QLoRA, specifically the optimizer used in it.\\n\\nThe submitted answer is \"I don\\'t know.\" This response does not provide any helpful or insightful information in response to the question. It does not provide the answer to the question, nor does it provide any additional information that might be useful or relevant.\\n\\nTherefore, based on the criterion of helpfulness, the submission does not meet the criteria.\\n\\nN', correction=None, evaluator_info={'__run': RunInfo(run_id=UUID('eba467c0-a994-4676-8e96-51549fbac761'))}, feedback_config=None, source_run_id=None, target_run_id=None),\n",
              "    EvaluationResult(key='harmfulness', score=0, value='N', comment='The criterion is about whether the submission is harmful, offensive, or inappropriate. \\n\\nLooking at the submission, it is clear that the respondent does not know the answer to the question. This is not harmful, offensive, or inappropriate. It is simply an admission of lack of knowledge. \\n\\nTherefore, the submission does not meet the criteria of being harmful, offensive, or inappropriate.\\n\\nN', correction=None, evaluator_info={'__run': RunInfo(run_id=UUID('ea51c8d9-c85c-40ce-99a9-cab781e85178'))}, feedback_config=None, source_run_id=None, target_run_id=None),\n",
              "    EvaluationResult(key='AI', score=0, value='N', comment='The criterion is to assess whether the response feels like it was generated by an AI. The response is \"I don\\'t know.\" This is a simple, straightforward response that could be given by either a human or an AI. It does not contain any complex language structures or unusual phrasing that might suggest it was generated by an AI. However, it also does not contain any distinctly human elements, such as emotion or personal experience. Therefore, it is not clear whether this response was generated by an AI or not. \\n\\nN', correction=None, evaluator_info={'__run': RunInfo(run_id=UUID('f667569d-dab9-4979-8a31-82b07074df16'))}, feedback_config=None, source_run_id=None, target_run_id=None),\n",
              "    EvaluationResult(key='scored_dopeness', score=0.1, value=None, comment='The response is not very \"dope\" because it doesn\\'t provide any useful information to the question asked. The purpose of the question is to gain knowledge about the optimizer used in QLoRA, but the response fails to deliver that. It\\'s not incorrect, but it\\'s not helpful either. Therefore, the score would be low.', correction=None, evaluator_info={'__run': RunInfo(run_id=UUID('2c3a6fa4-23fa-4b57-a0df-380260f69fea'))}, feedback_config=None, source_run_id=None, target_run_id=None)],\n",
              "   'execution_time': 3.882476,\n",
              "   'run_id': '4d3de081-18dc-4fe5-8f62-07ea7ed66472',\n",
              "   'output': \"\\nAnswer:\\nI don't know.\"},\n",
              "  'e8ad8582-be2c-4660-bf9d-3691eca5e1ab': {'input': {'question': 'What data type was created in the QLoRA paper?'},\n",
              "   'feedback': [EvaluationResult(key='helpfulness', score=1, value='Y', comment='The criterion for this task is \"helpfulness\". \\n\\nTo assess this, we need to consider whether the submission provides a useful and relevant response to the input question. The input question asks about the data type created in the QLoRA paper. \\n\\nThe submitted answer provides a clear response to this, stating that the QLoRA paper created a low-precision storage data type, usually 4-bit, and one computation data type that is usually BFloat16. \\n\\nThis answer is directly relevant to the question and provides specific details that would be helpful to someone seeking information on this topic. Therefore, the submission meets the criterion of being helpful.\\n\\nY', correction=None, evaluator_info={'__run': RunInfo(run_id=UUID('eff814ef-46ec-4bb0-ad86-36f42ae0419b'))}, feedback_config=None, source_run_id=None, target_run_id=None),\n",
              "    EvaluationResult(key='harmfulness', score=0, value='N', comment='The criterion is asking whether the submission is harmful, offensive, or inappropriate. \\n\\nLooking at the submission, it is a factual response to a question about a specific data type created in a paper. \\n\\nThere is no language or content that could be considered harmful, offensive, or inappropriate. \\n\\nTherefore, the submission is not harmful, offensive, or inappropriate.\\n\\nN', correction=None, evaluator_info={'__run': RunInfo(run_id=UUID('134822e9-5a10-4cf9-b22e-6707df8d9431'))}, feedback_config=None, source_run_id=None, target_run_id=None),\n",
              "    EvaluationResult(key='AI', score=0, value='N', comment='The criterion is asking whether the response feels like it was generated by an AI. The response provided is coherent, relevant, and detailed. It does not exhibit any of the common signs of AI-generated text, such as nonsensical phrases, irrelevant information, or awkward sentence structure. Therefore, it does not feel AI-generated.\\n\\nN', correction=None, evaluator_info={'__run': RunInfo(run_id=UUID('bad29b66-ed9e-430a-8c3b-0971525a6e67'))}, feedback_config=None, source_run_id=None, target_run_id=None),\n",
              "    EvaluationResult(key='scored_dopeness', score=0.9, value=None, comment='This response is quite informative and accurate. It directly answers the question and provides specific details about the data type created in the QLoRA paper. The language is clear and professional, making the information accessible to a wide range of audiences. However, it lacks a bit of enthusiasm or excitement that could make it more engaging.', correction=None, evaluator_info={'__run': RunInfo(run_id=UUID('23d50b34-10d9-4dda-8d50-8b58c5801d7e'))}, feedback_config=None, source_run_id=None, target_run_id=None)],\n",
              "   'execution_time': 6.620398,\n",
              "   'run_id': 'b399545c-0dd8-4e86-92b4-9a192078dc48',\n",
              "   'output': '\\nAnswer:\\nThe data type created in the QLoRA paper is a low-precision storage data type, usually 4-bit, and one computation data type that is usually BFloat16.'},\n",
              "  '5c56a189-749c-42c0-9c9e-b47b66c67e0d': {'input': {'question': 'What is a Retrieval Augmented Generation system?'},\n",
              "   'feedback': [EvaluationResult(key='helpfulness', score=1, value='Y', comment='The criterion for this task is \"helpfulness\". \\n\\nThe submission provides a detailed explanation of what a Retrieval Augmented Generation (RAG) system is. It explains how the RAG system works, combining retrieval-based and generation-based models to generate high-quality text. It also mentions the benefits of using a RAG system, stating that it can generate more diverse and contextually relevant text. Furthermore, the submission provides examples of applications where the RAG system has been effective, such as in natural language understanding, question answering, machine translation, and video understanding. \\n\\nBased on this analysis, the submission is helpful as it provides a comprehensive understanding of the topic. It is insightful as it explains the benefits and applications of the RAG system. It is also appropriate as it directly answers the question asked in the input. \\n\\nTherefore, the submission meets the criterion of helpfulness. \\n\\nY', correction=None, evaluator_info={'__run': RunInfo(run_id=UUID('8f21184e-b89a-4770-8659-f90632bcadb2'))}, feedback_config=None, source_run_id=None, target_run_id=None),\n",
              "    EvaluationResult(key='harmfulness', score=0, value='N', comment='The criterion for this assessment is whether the submission is harmful, offensive, or inappropriate.\\n\\nLooking at the submission, it is a detailed explanation of what a Retrieval Augmented Generation (RAG) system is. The language used is professional and informative, and there is no content that could be considered harmful, offensive, or inappropriate.\\n\\nTherefore, the submission does not meet the criterion of being harmful, offensive, or inappropriate.\\n\\nN', correction=None, evaluator_info={'__run': RunInfo(run_id=UUID('015cc47c-c110-45e4-80ba-af99c7708e1e'))}, feedback_config=None, source_run_id=None, target_run_id=None),\n",
              "    EvaluationResult(key='AI', score=0, value='N', comment=\"The criterion asks if the response feels like it was generated by an AI. \\n\\nThe submission is well-written, coherent, and provides a detailed explanation of a Retrieval Augmented Generation (RAG) system. It uses appropriate terminology and maintains a consistent tone throughout. \\n\\nWhile AI has advanced significantly, it is not always capable of generating such a detailed and contextually accurate response. However, it's also possible that an advanced AI could have generated this response.\\n\\nGiven the quality and depth of the response, it's difficult to definitively say whether it was AI-generated or not. However, the response does not exhibit common AI-generated text characteristics such as lack of coherence, context, or inappropriate use of language.\\n\\nN\", correction=None, evaluator_info={'__run': RunInfo(run_id=UUID('821b69d2-d667-44e5-81ba-f4c1fa01c837'))}, feedback_config=None, source_run_id=None, target_run_id=None),\n",
              "    EvaluationResult(key='scored_dopeness', score=0.9, value=None, comment='The response is very informative and detailed. It explains what a Retrieval Augmented Generation (RAG) system is in a clear and concise manner. The language used is professional and appropriate for the context. The response also provides additional information about the applications of RAG systems, which adds value to the answer. However, the response lacks a bit of creativity and excitement that could make it more engaging.', correction=None, evaluator_info={'__run': RunInfo(run_id=UUID('eed77a21-9d77-44dd-8976-276cd4c8c520'))}, feedback_config=None, source_run_id=None, target_run_id=None)],\n",
              "   'execution_time': 13.520083,\n",
              "   'run_id': '69f3a093-b830-4534-afae-5a9cc5d95898',\n",
              "   'output': '\\nAnswer:\\nA Retrieval Augmented Generation (RAG) system is a type of language model that combines the strengths of both generation and retrieval-based models to generate high-quality text. The RAG system uses a retrieval-based model to retrieve relevant information from a large knowledge base and then augments it with generation-based models to generate the final output. This approach allows the system to generate more diverse and contextually relevant text than either approach alone. The RAG system has been shown to be particularly effective in natural language understanding and has been demonstrated to enhance systems for various applications including question answering, machine translation, and video understanding.'},\n",
              "  'f3754c4f-1618-4ebf-b698-1e076985d2e8': {'input': {'question': 'Who authored the QLoRA paper?'},\n",
              "   'feedback': [EvaluationResult(key='helpfulness', score=0, value='N', comment='The criterion for this task is \"helpfulness\". The submission should be helpful, insightful, and appropriate. \\n\\nLooking at the submission, the respondent has stated that they do not know the author of the QLoRA paper because none of the provided documents mention it. \\n\\nThis response is appropriate as it is a direct answer to the question. However, it is not particularly helpful or insightful. The respondent has not provided any additional information or attempted to find the answer elsewhere. \\n\\nTherefore, based on the given criterion, the submission does not meet the criteria.\\n\\nN', correction=None, evaluator_info={'__run': RunInfo(run_id=UUID('67cfb7a7-ca7e-4521-a571-f850e8b0fbf8'))}, feedback_config=None, source_run_id=None, target_run_id=None),\n",
              "    EvaluationResult(key='harmfulness', score=0, value='N', comment='The criterion asks if the submission is harmful, offensive, or inappropriate. \\n\\nLooking at the submission, it is a simple statement of not knowing the answer to the question. The user states that none of the provided documents mention the author of the QLoRA paper. \\n\\nThere is no harmful, offensive, or inappropriate content in the submission. The user is simply stating a fact based on the information they have been given.\\n\\nTherefore, the submission is not harmful, offensive, or inappropriate.\\n\\nN', correction=None, evaluator_info={'__run': RunInfo(run_id=UUID('86f471c1-469a-493b-a6e8-bd112d216a46'))}, feedback_config=None, source_run_id=None, target_run_id=None),\n",
              "    EvaluationResult(key='AI', score=1, value='Y', comment='The criterion asks if the response feels like it was generated by an AI. The submission does not provide a direct answer to the question, instead stating that the information is not available in the provided documents. This could be a response generated by an AI, as it is a logical conclusion to draw if the necessary information is not present in the provided data. Therefore, the submission does meet the criterion.\\n\\nY', correction=None, evaluator_info={'__run': RunInfo(run_id=UUID('8840ee19-5b9c-444e-aa6c-8035e6ac8d25'))}, feedback_config=None, source_run_id=None, target_run_id=None),\n",
              "    EvaluationResult(key='scored_dopeness', score=0.6, value=None, comment=\"The response is accurate and clear, but it doesn't provide any additional information or context that might make it more engaging or interesting. It's also not particularly creative or unique. However, it does answer the question to the best of its ability given the information provided, which is commendable.\", correction=None, evaluator_info={'__run': RunInfo(run_id=UUID('ea424afb-1fa8-4565-bc56-4bafb446055a'))}, feedback_config=None, source_run_id=None, target_run_id=None)],\n",
              "   'execution_time': 5.079041,\n",
              "   'run_id': 'de52f521-2b43-4297-9773-4d6518aff566',\n",
              "   'output': \"\\nAnswer: I don't know. None of the provided documents mention the author of the QLoRA paper.\"},\n",
              "  '6b0d0f6c-07d8-4376-b956-21d3bdb06460': {'input': {'question': 'What is the most popular deep learning framework?'},\n",
              "   'feedback': [EvaluationResult(key='helpfulness', score=0, value='N', comment='The criterion for this task is \"helpfulness\". The submission should provide a helpful, insightful, and appropriate response to the input.\\n\\nLooking at the input, the question asked is \"What is the most popular deep learning framework?\" This is a straightforward question that requires a direct answer.\\n\\nThe submission, however, does not provide a direct answer to the question. Instead, it talks about the release of model generations, open-source codebase, and the integration of methods into the Hugging Face Transformers. These details, while potentially interesting, do not answer the question about the most popular deep learning framework.\\n\\nTherefore, the submission is not helpful in this context as it does not provide the information asked for in the input. It is not insightful as it does not provide any new or relevant information about popular deep learning frameworks. It is also not appropriate as it does not address the question asked.\\n\\nN', correction=None, evaluator_info={'__run': RunInfo(run_id=UUID('f2f086a6-a4a8-4c2e-9f55-a04d6890acb6'))}, feedback_config=None, source_run_id=None, target_run_id=None),\n",
              "    EvaluationResult(key='harmfulness', score=0, value='N', comment='The criterion for this assessment is whether the submission is harmful, offensive, or inappropriate.\\n\\nLooking at the submission, it is clear that the respondent does not provide any harmful, offensive, or inappropriate content. The respondent simply states that they do not know the answer to the question and provides a summary of the context they were given.\\n\\nTherefore, the submission is not harmful, offensive, or inappropriate.\\n\\nN', correction=None, evaluator_info={'__run': RunInfo(run_id=UUID('ed9b3646-a41e-412e-b98c-feda4e373112'))}, feedback_config=None, source_run_id=None, target_run_id=None),\n",
              "    EvaluationResult(key='AI', score=1, value='Y', comment='The criterion asks if the response feels AI generated. The response provided by the submission does not directly answer the question asked in the input. Instead, it talks about unrelated topics such as the release of model generations, open-source codebase, and the integration of methods into the Hugging Face Transformers. This kind of response, which is off-topic and not directly addressing the question, can be a characteristic of an AI generated response. Therefore, the submission does meet the criterion.\\n\\nY', correction=None, evaluator_info={'__run': RunInfo(run_id=UUID('9b2e610f-8d9c-42ce-8680-bb06c6509f70'))}, feedback_config=None, source_run_id=None, target_run_id=None),\n",
              "    EvaluationResult(key='scored_dopeness', score=0.3, value=None, comment=\"The response is not very dope because it doesn't answer the question directly. The question asks about the most popular deep learning framework, but the response talks about model generations, open-source codebase, and Hugging Face Transformers, which are not directly related to the question. The response also states that it doesn't know the answer, which is not very helpful. However, it does show some knowledge about deep learning and related topics, which is somewhat cool.\", correction=None, evaluator_info={'__run': RunInfo(run_id=UUID('82c7fa4a-056a-4240-8609-c6325f5bf4e8'))}, feedback_config=None, source_run_id=None, target_run_id=None)],\n",
              "   'execution_time': 8.455255,\n",
              "   'run_id': '55e8a2ec-c406-48e6-9aec-3abbeff7fd71',\n",
              "   'output': \"\\nAnswer:\\nI don't know. The context provided doesn't mention any specific deep learning framework as the most popular. It only talks about the release of model generations with human and GPT-4 annotations, open-source codebase, and the integration of methods into the Hugging Face Transformers.\"},\n",
              "  'e4e0eda9-27b1-430e-a33b-57debe835bc4': {'input': {'question': 'What significant improvements does the LoRA system make?'},\n",
              "   'feedback': [EvaluationResult(key='helpfulness', score=1, value='Y', comment='The criterion for this task is \"helpfulness\". \\n\\nThe submission provides a detailed explanation of the improvements made by the LoRA system. It lists four specific areas where the system has made significant improvements, and provides a brief explanation of each. This information is likely to be helpful to someone seeking to understand the benefits of the LoRA system.\\n\\nThe submission is also insightful, as it not only lists the improvements, but also explains how these improvements can lead to better performance. This insight could help someone understand why these improvements are significant.\\n\\nThe submission is appropriate for the question asked. It directly addresses the question and provides relevant information. It does not include any irrelevant or inappropriate content.\\n\\nBased on this analysis, the submission meets the criterion of being helpful, insightful, and appropriate.\\n\\nY', correction=None, evaluator_info={'__run': RunInfo(run_id=UUID('f47a2e42-1141-4f50-8372-e5b36e4a15f3'))}, feedback_config=None, source_run_id=None, target_run_id=None),\n",
              "    EvaluationResult(key='harmfulness', score=0, value='N', comment='The criterion for this task is to assess whether the submission is harmful, offensive, or inappropriate.\\n\\nLooking at the submission, it is a detailed explanation of the improvements made by the LoRA system. The language used is professional and informative, and there is no content that could be considered harmful, offensive, or inappropriate.\\n\\nTherefore, the submission is not harmful, offensive, or inappropriate.\\n\\nN', correction=None, evaluator_info={'__run': RunInfo(run_id=UUID('01caac01-c5b9-429b-a78b-d8ed9cefc50e'))}, feedback_config=None, source_run_id=None, target_run_id=None),\n",
              "    EvaluationResult(key='AI', score=0, value='N', comment='The criterion asks if the response feels AI generated. The response is well-structured, detailed, and coherent. It provides a comprehensive answer to the question, outlining the significant improvements made by the LoRA system. The language used is natural and the tone is consistent, which are characteristics of a human-generated response. Therefore, the response does not feel AI generated.\\n\\nN', correction=None, evaluator_info={'__run': RunInfo(run_id=UUID('7551c5c6-2df7-4945-8e48-8f3bcb19e6f2'))}, feedback_config=None, source_run_id=None, target_run_id=None),\n",
              "    EvaluationResult(key='scored_dopeness', score=0.9, value=None, comment='The response is very detailed, informative, and well-structured. It provides a clear and comprehensive answer to the question, explaining the improvements made by the LoRA system in a way that is easy to understand. The use of bullet points to list the improvements is a good way to organize the information and make it more digestible. The summary at the end is also a nice touch, as it reinforces the main points made in the response. However, the response could be considered a bit too technical or jargon-heavy for some readers, which could potentially make it less accessible to a general audience.', correction=None, evaluator_info={'__run': RunInfo(run_id=UUID('eeda5014-51db-434c-a9b0-d0758d123fe8'))}, feedback_config=None, source_run_id=None, target_run_id=None)],\n",
              "   'execution_time': 17.495233,\n",
              "   'run_id': 'fc196848-5bc7-4281-a3a6-3f7fdc7d4205',\n",
              "   'output': '\\nAnswer: According to the provided context, the LoRA system makes significant improvements in the following areas:\\n\\n1. Memory reduction: LoRA reduces the memory requirement of the model during training, allowing for more adapters to be used, which can improve performance.\\n2. Device-specific tuning: LoRA allows for training multiple models tailored to different device configurations or determining the optimal rank for each device and task, which can lead to better performance.\\n3. Weight quantization: LoRA mitigates the performance degradation caused by weight quantization in LLM by fine-tuning additional adapters for downstream tasks, sometimes yielding notable performance enhancements.\\n4. Information recovery: LoRA can recover lost information in the model weights, leading to better performance.\\n\\nIn summary, LoRA makes significant improvements in reducing memory usage, device-specific tuning, mitigating performance degradation from weight quantization, and recovering lost information in the model weights.'}},\n",
              " 'aggregate_metrics': None}"
            ]
          },
          "execution_count": 40,
          "metadata": {},
          "output_type": "execute_result"
        }
      ],
      "source": [
        "client.run_on_dataset(\n",
        "    dataset_name=dataset_name,\n",
        "    llm_or_chain_factory=retrieval_augmented_qa_chain,\n",
        "    evaluation=eval_config,\n",
        "    verbose=True,\n",
        "    project_name=\"HF RAG Pipeline - Evaluation - v1\",\n",
        "    project_metadata={\"version\": \"1.0.0\"},\n",
        ")"
      ]
    }
  ],
  "metadata": {
    "colab": {
      "provenance": []
    },
    "kernelspec": {
      "display_name": "Python 3",
      "name": "python3"
    },
    "language_info": {
      "codemirror_mode": {
        "name": "ipython",
        "version": 3
      },
      "file_extension": ".py",
      "mimetype": "text/x-python",
      "name": "python",
      "nbconvert_exporter": "python",
      "pygments_lexer": "ipython3",
      "version": "3.9.19"
    }
  },
  "nbformat": 4,
  "nbformat_minor": 0
}
